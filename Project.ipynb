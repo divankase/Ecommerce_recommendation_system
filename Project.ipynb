{
 "cells": [
  {
   "cell_type": "code",
   "execution_count": 2,
   "id": "a7824503-5495-4644-b794-06fd913106b2",
   "metadata": {},
   "outputs": [],
   "source": [
    "import numpy as np\n",
    "import pandas as pd\n",
    "from sklearn.feature_extraction.text import TfidfVectorizer\n",
    "from sklearn.metrics.pairwise import cosine_similarity\n",
    "import matplotlib.pyplot as plt\n",
    "import os"
   ]
  },
  {
   "cell_type": "code",
   "execution_count": 3,
   "id": "a30d03d2-2a51-4a0f-a40c-ce36a7e2c525",
   "metadata": {},
   "outputs": [
    {
     "name": "stdout",
     "output_type": "stream",
     "text": [
      "D:\\Y3S1\\IRWA_project\\projectK\\projectK\n"
     ]
    }
   ],
   "source": [
    "print(os.getcwd())"
   ]
  },
  {
   "cell_type": "code",
   "execution_count": 4,
   "id": "39837982-91e3-4256-98e3-32bee62f8b6e",
   "metadata": {},
   "outputs": [],
   "source": [
    "products = pd.read_csv('Dataset.csv')"
   ]
  },
  {
   "cell_type": "code",
   "execution_count": 5,
   "id": "5ad13f5b-dc1b-49dd-8fc4-d648d5567e99",
   "metadata": {},
   "outputs": [
    {
     "data": {
      "text/html": [
       "<div>\n",
       "<style scoped>\n",
       "    .dataframe tbody tr th:only-of-type {\n",
       "        vertical-align: middle;\n",
       "    }\n",
       "\n",
       "    .dataframe tbody tr th {\n",
       "        vertical-align: top;\n",
       "    }\n",
       "\n",
       "    .dataframe thead th {\n",
       "        text-align: right;\n",
       "    }\n",
       "</style>\n",
       "<table border=\"1\" class=\"dataframe\">\n",
       "  <thead>\n",
       "    <tr style=\"text-align: right;\">\n",
       "      <th></th>\n",
       "      <th>Uniq Id</th>\n",
       "      <th>Crawl Timestamp</th>\n",
       "      <th>Dataset Origin</th>\n",
       "      <th>Product Id</th>\n",
       "      <th>Product Barcode</th>\n",
       "      <th>Product Company Type Source</th>\n",
       "      <th>Product Brand Source</th>\n",
       "      <th>Product Brand Normalised Source</th>\n",
       "      <th>Product Name Source</th>\n",
       "      <th>Match Rank</th>\n",
       "      <th>...</th>\n",
       "      <th>Product Currency</th>\n",
       "      <th>Product Available Inventory</th>\n",
       "      <th>Product Image Url</th>\n",
       "      <th>Product Model Number</th>\n",
       "      <th>Product Tags</th>\n",
       "      <th>Product Contents</th>\n",
       "      <th>Product Rating</th>\n",
       "      <th>Product Reviews Count</th>\n",
       "      <th>Bsr</th>\n",
       "      <th>Joining Key</th>\n",
       "    </tr>\n",
       "  </thead>\n",
       "  <tbody>\n",
       "    <tr>\n",
       "      <th>0</th>\n",
       "      <td>1705736792d82aa2f2d3caf1c07c53f4</td>\n",
       "      <td>2020-09-24 03:21:12 +0000</td>\n",
       "      <td>NaN</td>\n",
       "      <td>2e17bf4acecdece67fc00f07ad62c910</td>\n",
       "      <td>NaN</td>\n",
       "      <td>Competitor</td>\n",
       "      <td>NaN</td>\n",
       "      <td>NaN</td>\n",
       "      <td>NaN</td>\n",
       "      <td>NaN</td>\n",
       "      <td>...</td>\n",
       "      <td>USD</td>\n",
       "      <td>111111111</td>\n",
       "      <td>https://i5.walmartimages.com/asr/0e1f4c51-c1a4...</td>\n",
       "      <td>NaN</td>\n",
       "      <td>OPI Infinite Shine, Nail Lacquer Nail Polish, ...</td>\n",
       "      <td>NaN</td>\n",
       "      <td>NaN</td>\n",
       "      <td>NaN</td>\n",
       "      <td>NaN</td>\n",
       "      <td>81350af1be98d3753cf964709f0c766a</td>\n",
       "    </tr>\n",
       "    <tr>\n",
       "      <th>1</th>\n",
       "      <td>95a9fe6f4810fcfc7ff244fd06784f11</td>\n",
       "      <td>2020-10-30 14:04:08 +0000</td>\n",
       "      <td>NaN</td>\n",
       "      <td>076e5854a62dd283c253d6bae415af1f</td>\n",
       "      <td>NaN</td>\n",
       "      <td>Competitor</td>\n",
       "      <td>NaN</td>\n",
       "      <td>NaN</td>\n",
       "      <td>NaN</td>\n",
       "      <td>NaN</td>\n",
       "      <td>...</td>\n",
       "      <td>USD</td>\n",
       "      <td>111111111</td>\n",
       "      <td>https://i5.walmartimages.com/asr/9c8e42e4-13a5...</td>\n",
       "      <td>NaN</td>\n",
       "      <td>Nice 'n Easy Permanent Color, 111 Natural Medi...</td>\n",
       "      <td>NaN</td>\n",
       "      <td>NaN</td>\n",
       "      <td>NaN</td>\n",
       "      <td>NaN</td>\n",
       "      <td>0353e63907dc0de0c734db4690300057</td>\n",
       "    </tr>\n",
       "    <tr>\n",
       "      <th>2</th>\n",
       "      <td>8d4d0330178d3ed181b15a4102b287f2</td>\n",
       "      <td>2020-08-06 05:51:47 +0000</td>\n",
       "      <td>NaN</td>\n",
       "      <td>8a4fe5d9c7a6ed26cc44d785a454b124</td>\n",
       "      <td>NaN</td>\n",
       "      <td>Competitor</td>\n",
       "      <td>NaN</td>\n",
       "      <td>NaN</td>\n",
       "      <td>NaN</td>\n",
       "      <td>NaN</td>\n",
       "      <td>...</td>\n",
       "      <td>USD</td>\n",
       "      <td>111111111</td>\n",
       "      <td>https://i5.walmartimages.com/asr/e3a601c2-6a2b...</td>\n",
       "      <td>NaN</td>\n",
       "      <td>Clairol Nice 'N Easy Permanent Color 7/106A Na...</td>\n",
       "      <td>NaN</td>\n",
       "      <td>4.5</td>\n",
       "      <td>29221.0</td>\n",
       "      <td>NaN</td>\n",
       "      <td>b6985c8e94815fbca2319dbb8bf228af</td>\n",
       "    </tr>\n",
       "    <tr>\n",
       "      <th>3</th>\n",
       "      <td>fddc4df45b35efd886794b261f730c51</td>\n",
       "      <td>2020-07-15 11:22:04 +0000</td>\n",
       "      <td>NaN</td>\n",
       "      <td>03b5fb878a33eadff8b033419eab9669</td>\n",
       "      <td>NaN</td>\n",
       "      <td>Competitor</td>\n",
       "      <td>NaN</td>\n",
       "      <td>NaN</td>\n",
       "      <td>NaN</td>\n",
       "      <td>NaN</td>\n",
       "      <td>...</td>\n",
       "      <td>USD</td>\n",
       "      <td>111111111</td>\n",
       "      <td>https://i5.walmartimages.com/asr/25b4b467-bc61...</td>\n",
       "      <td>NaN</td>\n",
       "      <td>Kokie Professional Matte Lipstick, Hot Berry, ...</td>\n",
       "      <td>NaN</td>\n",
       "      <td>NaN</td>\n",
       "      <td>NaN</td>\n",
       "      <td>NaN</td>\n",
       "      <td>85b70fded09186f00467cea2f935b779</td>\n",
       "    </tr>\n",
       "    <tr>\n",
       "      <th>4</th>\n",
       "      <td>0990cf89a59ca6a0460349a3e4f51d42</td>\n",
       "      <td>2020-11-26T12:27:20+00:00</td>\n",
       "      <td>NaN</td>\n",
       "      <td>ce3d761e57d6ccad80619297b5b1bcbc</td>\n",
       "      <td>NaN</td>\n",
       "      <td>Competitor</td>\n",
       "      <td>NaN</td>\n",
       "      <td>NaN</td>\n",
       "      <td>NaN</td>\n",
       "      <td>NaN</td>\n",
       "      <td>...</td>\n",
       "      <td>USD</td>\n",
       "      <td>111111111</td>\n",
       "      <td>https://i5.walmartimages.com/asr/1a2ebb06-cd01...</td>\n",
       "      <td>NaN</td>\n",
       "      <td>Gillette TRAC II Plus Razor Blade Refills, Fit...</td>\n",
       "      <td>NaN</td>\n",
       "      <td>NaN</td>\n",
       "      <td>131.0</td>\n",
       "      <td>NaN</td>\n",
       "      <td>41c870871328e97da6fb036bb7d4b2da</td>\n",
       "    </tr>\n",
       "  </tbody>\n",
       "</table>\n",
       "<p>5 rows × 32 columns</p>\n",
       "</div>"
      ],
      "text/plain": [
       "                            Uniq Id            Crawl Timestamp  \\\n",
       "0  1705736792d82aa2f2d3caf1c07c53f4  2020-09-24 03:21:12 +0000   \n",
       "1  95a9fe6f4810fcfc7ff244fd06784f11  2020-10-30 14:04:08 +0000   \n",
       "2  8d4d0330178d3ed181b15a4102b287f2  2020-08-06 05:51:47 +0000   \n",
       "3  fddc4df45b35efd886794b261f730c51  2020-07-15 11:22:04 +0000   \n",
       "4  0990cf89a59ca6a0460349a3e4f51d42  2020-11-26T12:27:20+00:00   \n",
       "\n",
       "   Dataset Origin                        Product Id  Product Barcode  \\\n",
       "0             NaN  2e17bf4acecdece67fc00f07ad62c910              NaN   \n",
       "1             NaN  076e5854a62dd283c253d6bae415af1f              NaN   \n",
       "2             NaN  8a4fe5d9c7a6ed26cc44d785a454b124              NaN   \n",
       "3             NaN  03b5fb878a33eadff8b033419eab9669              NaN   \n",
       "4             NaN  ce3d761e57d6ccad80619297b5b1bcbc              NaN   \n",
       "\n",
       "  Product Company Type Source Product Brand Source  \\\n",
       "0                  Competitor                  NaN   \n",
       "1                  Competitor                  NaN   \n",
       "2                  Competitor                  NaN   \n",
       "3                  Competitor                  NaN   \n",
       "4                  Competitor                  NaN   \n",
       "\n",
       "  Product Brand Normalised Source Product Name Source  Match Rank  ...  \\\n",
       "0                             NaN                 NaN         NaN  ...   \n",
       "1                             NaN                 NaN         NaN  ...   \n",
       "2                             NaN                 NaN         NaN  ...   \n",
       "3                             NaN                 NaN         NaN  ...   \n",
       "4                             NaN                 NaN         NaN  ...   \n",
       "\n",
       "   Product Currency  Product Available Inventory  \\\n",
       "0               USD                    111111111   \n",
       "1               USD                    111111111   \n",
       "2               USD                    111111111   \n",
       "3               USD                    111111111   \n",
       "4               USD                    111111111   \n",
       "\n",
       "                                   Product Image Url Product Model Number  \\\n",
       "0  https://i5.walmartimages.com/asr/0e1f4c51-c1a4...                  NaN   \n",
       "1  https://i5.walmartimages.com/asr/9c8e42e4-13a5...                  NaN   \n",
       "2  https://i5.walmartimages.com/asr/e3a601c2-6a2b...                  NaN   \n",
       "3  https://i5.walmartimages.com/asr/25b4b467-bc61...                  NaN   \n",
       "4  https://i5.walmartimages.com/asr/1a2ebb06-cd01...                  NaN   \n",
       "\n",
       "                                        Product Tags Product Contents  \\\n",
       "0  OPI Infinite Shine, Nail Lacquer Nail Polish, ...              NaN   \n",
       "1  Nice 'n Easy Permanent Color, 111 Natural Medi...              NaN   \n",
       "2  Clairol Nice 'N Easy Permanent Color 7/106A Na...              NaN   \n",
       "3  Kokie Professional Matte Lipstick, Hot Berry, ...              NaN   \n",
       "4  Gillette TRAC II Plus Razor Blade Refills, Fit...              NaN   \n",
       "\n",
       "   Product Rating  Product Reviews Count  Bsr  \\\n",
       "0             NaN                    NaN  NaN   \n",
       "1             NaN                    NaN  NaN   \n",
       "2             4.5                29221.0  NaN   \n",
       "3             NaN                    NaN  NaN   \n",
       "4             NaN                  131.0  NaN   \n",
       "\n",
       "                        Joining Key  \n",
       "0  81350af1be98d3753cf964709f0c766a  \n",
       "1  0353e63907dc0de0c734db4690300057  \n",
       "2  b6985c8e94815fbca2319dbb8bf228af  \n",
       "3  85b70fded09186f00467cea2f935b779  \n",
       "4  41c870871328e97da6fb036bb7d4b2da  \n",
       "\n",
       "[5 rows x 32 columns]"
      ]
     },
     "execution_count": 5,
     "metadata": {},
     "output_type": "execute_result"
    }
   ],
   "source": [
    "products.head()"
   ]
  },
  {
   "cell_type": "code",
   "execution_count": 6,
   "id": "8d69a24f-4729-414a-a17d-502fed418dfd",
   "metadata": {},
   "outputs": [
    {
     "data": {
      "text/plain": [
       "(5000, 32)"
      ]
     },
     "execution_count": 6,
     "metadata": {},
     "output_type": "execute_result"
    }
   ],
   "source": [
    "products.shape"
   ]
  },
  {
   "cell_type": "code",
   "execution_count": 7,
   "id": "17a590c8-6ee8-4b34-a991-671e9c57d7d5",
   "metadata": {},
   "outputs": [
    {
     "data": {
      "text/plain": [
       "Uniq Id                                             1705736792d82aa2f2d3caf1c07c53f4\n",
       "Crawl Timestamp                                            2020-09-24 03:21:12 +0000\n",
       "Dataset Origin                                                                   NaN\n",
       "Product Id                                          2e17bf4acecdece67fc00f07ad62c910\n",
       "Product Barcode                                                                  NaN\n",
       "Product Company Type Source                                               Competitor\n",
       "Product Brand Source                                                             NaN\n",
       "Product Brand Normalised Source                                                  NaN\n",
       "Product Name Source                                                              NaN\n",
       "Match Rank                                                                       NaN\n",
       "Match Score                                                                      NaN\n",
       "Match Type                                                                       NaN\n",
       "Retailer                                                                 walmart.com\n",
       "Product Category                   Premium Beauty > Premium Makeup > Premium Nail...\n",
       "Product Brand                                                                    OPI\n",
       "Product Name                       OPI Infinite Shine, Nail Lacquer Nail Polish, ...\n",
       "Product Price                                                                   8.95\n",
       "Sku                                                                              NaN\n",
       "Upc                                                                              NaN\n",
       "Product Url                        https://www.walmart.com/ip/OPI-Infinite-Shine-...\n",
       "Market                                                                            US\n",
       "Product Description                                                              NaN\n",
       "Product Currency                                                                 USD\n",
       "Product Available Inventory                                                111111111\n",
       "Product Image Url                  https://i5.walmartimages.com/asr/0e1f4c51-c1a4...\n",
       "Product Model Number                                                             NaN\n",
       "Product Tags                       OPI Infinite Shine, Nail Lacquer Nail Polish, ...\n",
       "Product Contents                                                                 NaN\n",
       "Product Rating                                                                   NaN\n",
       "Product Reviews Count                                                            NaN\n",
       "Bsr                                                                              NaN\n",
       "Joining Key                                         81350af1be98d3753cf964709f0c766a\n",
       "Name: 0, dtype: object"
      ]
     },
     "execution_count": 7,
     "metadata": {},
     "output_type": "execute_result"
    }
   ],
   "source": [
    "products.iloc[0]"
   ]
  },
  {
   "cell_type": "code",
   "execution_count": 8,
   "id": "c5fff8bd-afe4-4d07-896a-d6402934b565",
   "metadata": {},
   "outputs": [
    {
     "data": {
      "text/plain": [
       "Index(['Uniq Id', 'Crawl Timestamp', 'Dataset Origin', 'Product Id',\n",
       "       'Product Barcode', 'Product Company Type Source',\n",
       "       'Product Brand Source', 'Product Brand Normalised Source',\n",
       "       'Product Name Source', 'Match Rank', 'Match Score', 'Match Type',\n",
       "       'Retailer', 'Product Category', 'Product Brand', 'Product Name',\n",
       "       'Product Price', 'Sku', 'Upc', 'Product Url', 'Market',\n",
       "       'Product Description', 'Product Currency',\n",
       "       'Product Available Inventory', 'Product Image Url',\n",
       "       'Product Model Number', 'Product Tags', 'Product Contents',\n",
       "       'Product Rating', 'Product Reviews Count', 'Bsr', 'Joining Key'],\n",
       "      dtype='object')"
      ]
     },
     "execution_count": 8,
     "metadata": {},
     "output_type": "execute_result"
    }
   ],
   "source": [
    "products.columns"
   ]
  },
  {
   "cell_type": "code",
   "execution_count": 9,
   "id": "2206a9c9-d7c6-42c8-b353-2e3a55b12f69",
   "metadata": {},
   "outputs": [],
   "source": [
    "train_data = products[['Uniq Id', 'Product Id', 'Product Rating', 'Product Reviews Count', 'Product Category', 'Product Brand', 'Product Name', 'Product Image Url', 'Product Description', 'Product Tags']]"
   ]
  },
  {
   "cell_type": "code",
   "execution_count": 10,
   "id": "d661add6-5ffa-4597-9119-83110936cdc2",
   "metadata": {},
   "outputs": [
    {
     "data": {
      "text/html": [
       "<div>\n",
       "<style scoped>\n",
       "    .dataframe tbody tr th:only-of-type {\n",
       "        vertical-align: middle;\n",
       "    }\n",
       "\n",
       "    .dataframe tbody tr th {\n",
       "        vertical-align: top;\n",
       "    }\n",
       "\n",
       "    .dataframe thead th {\n",
       "        text-align: right;\n",
       "    }\n",
       "</style>\n",
       "<table border=\"1\" class=\"dataframe\">\n",
       "  <thead>\n",
       "    <tr style=\"text-align: right;\">\n",
       "      <th></th>\n",
       "      <th>Uniq Id</th>\n",
       "      <th>Product Id</th>\n",
       "      <th>Product Rating</th>\n",
       "      <th>Product Reviews Count</th>\n",
       "      <th>Product Category</th>\n",
       "      <th>Product Brand</th>\n",
       "      <th>Product Name</th>\n",
       "      <th>Product Image Url</th>\n",
       "      <th>Product Description</th>\n",
       "      <th>Product Tags</th>\n",
       "    </tr>\n",
       "  </thead>\n",
       "  <tbody>\n",
       "    <tr>\n",
       "      <th>0</th>\n",
       "      <td>1705736792d82aa2f2d3caf1c07c53f4</td>\n",
       "      <td>2e17bf4acecdece67fc00f07ad62c910</td>\n",
       "      <td>NaN</td>\n",
       "      <td>NaN</td>\n",
       "      <td>Premium Beauty &gt; Premium Makeup &gt; Premium Nail...</td>\n",
       "      <td>OPI</td>\n",
       "      <td>OPI Infinite Shine, Nail Lacquer Nail Polish, ...</td>\n",
       "      <td>https://i5.walmartimages.com/asr/0e1f4c51-c1a4...</td>\n",
       "      <td>NaN</td>\n",
       "      <td>OPI Infinite Shine, Nail Lacquer Nail Polish, ...</td>\n",
       "    </tr>\n",
       "    <tr>\n",
       "      <th>1</th>\n",
       "      <td>95a9fe6f4810fcfc7ff244fd06784f11</td>\n",
       "      <td>076e5854a62dd283c253d6bae415af1f</td>\n",
       "      <td>NaN</td>\n",
       "      <td>NaN</td>\n",
       "      <td>Beauty &gt; Hair Care &gt; Hair Color &gt; Auburn Hair ...</td>\n",
       "      <td>Nice'n Easy</td>\n",
       "      <td>Nice n Easy Permanent Color, 111 Natural Mediu...</td>\n",
       "      <td>https://i5.walmartimages.com/asr/9c8e42e4-13a5...</td>\n",
       "      <td>Pack of 3 Pack of 3 for the UPC: 381519000201 ...</td>\n",
       "      <td>Nice 'n Easy Permanent Color, 111 Natural Medi...</td>\n",
       "    </tr>\n",
       "  </tbody>\n",
       "</table>\n",
       "</div>"
      ],
      "text/plain": [
       "                            Uniq Id                        Product Id  \\\n",
       "0  1705736792d82aa2f2d3caf1c07c53f4  2e17bf4acecdece67fc00f07ad62c910   \n",
       "1  95a9fe6f4810fcfc7ff244fd06784f11  076e5854a62dd283c253d6bae415af1f   \n",
       "\n",
       "   Product Rating  Product Reviews Count  \\\n",
       "0             NaN                    NaN   \n",
       "1             NaN                    NaN   \n",
       "\n",
       "                                    Product Category Product Brand  \\\n",
       "0  Premium Beauty > Premium Makeup > Premium Nail...           OPI   \n",
       "1  Beauty > Hair Care > Hair Color > Auburn Hair ...   Nice'n Easy   \n",
       "\n",
       "                                        Product Name  \\\n",
       "0  OPI Infinite Shine, Nail Lacquer Nail Polish, ...   \n",
       "1  Nice n Easy Permanent Color, 111 Natural Mediu...   \n",
       "\n",
       "                                   Product Image Url  \\\n",
       "0  https://i5.walmartimages.com/asr/0e1f4c51-c1a4...   \n",
       "1  https://i5.walmartimages.com/asr/9c8e42e4-13a5...   \n",
       "\n",
       "                                 Product Description  \\\n",
       "0                                                NaN   \n",
       "1  Pack of 3 Pack of 3 for the UPC: 381519000201 ...   \n",
       "\n",
       "                                        Product Tags  \n",
       "0  OPI Infinite Shine, Nail Lacquer Nail Polish, ...  \n",
       "1  Nice 'n Easy Permanent Color, 111 Natural Medi...  "
      ]
     },
     "execution_count": 10,
     "metadata": {},
     "output_type": "execute_result"
    }
   ],
   "source": [
    "train_data.head(2)"
   ]
  },
  {
   "cell_type": "code",
   "execution_count": 11,
   "id": "8332888d-a8c4-426c-9420-6a8486bab698",
   "metadata": {},
   "outputs": [
    {
     "data": {
      "text/plain": [
       "Uniq Id                     0\n",
       "Product Id                  0\n",
       "Product Rating           2806\n",
       "Product Reviews Count    1654\n",
       "Product Category           10\n",
       "Product Brand              13\n",
       "Product Name                0\n",
       "Product Image Url           0\n",
       "Product Description      1127\n",
       "Product Tags                0\n",
       "dtype: int64"
      ]
     },
     "execution_count": 11,
     "metadata": {},
     "output_type": "execute_result"
    }
   ],
   "source": [
    "train_data.isna().sum()"
   ]
  },
  {
   "cell_type": "code",
   "execution_count": 12,
   "id": "612924f5-5b5a-47ae-8207-f739334e92ea",
   "metadata": {},
   "outputs": [],
   "source": [
    "#train_data.dropna(inplace=True)"
   ]
  },
  {
   "cell_type": "code",
   "execution_count": 13,
   "id": "cd0e4600-ea9a-4069-bbea-703512961e00",
   "metadata": {},
   "outputs": [
    {
     "name": "stderr",
     "output_type": "stream",
     "text": [
      "C:\\Users\\Kabi\\AppData\\Local\\Temp\\ipykernel_8476\\4023703667.py:2: FutureWarning: A value is trying to be set on a copy of a DataFrame or Series through chained assignment using an inplace method.\n",
      "The behavior will change in pandas 3.0. This inplace method will never work because the intermediate object on which we are setting values always behaves as a copy.\n",
      "\n",
      "For example, when doing 'df[col].method(value, inplace=True)', try using 'df.method({col: value}, inplace=True)' or df[col] = df[col].method(value) instead, to perform the operation inplace on the original object.\n",
      "\n",
      "\n",
      "  train_data['Product Rating'].fillna(0, inplace=True)\n",
      "C:\\Users\\Kabi\\AppData\\Local\\Temp\\ipykernel_8476\\4023703667.py:2: SettingWithCopyWarning: \n",
      "A value is trying to be set on a copy of a slice from a DataFrame\n",
      "\n",
      "See the caveats in the documentation: https://pandas.pydata.org/pandas-docs/stable/user_guide/indexing.html#returning-a-view-versus-a-copy\n",
      "  train_data['Product Rating'].fillna(0, inplace=True)\n",
      "C:\\Users\\Kabi\\AppData\\Local\\Temp\\ipykernel_8476\\4023703667.py:3: FutureWarning: A value is trying to be set on a copy of a DataFrame or Series through chained assignment using an inplace method.\n",
      "The behavior will change in pandas 3.0. This inplace method will never work because the intermediate object on which we are setting values always behaves as a copy.\n",
      "\n",
      "For example, when doing 'df[col].method(value, inplace=True)', try using 'df.method({col: value}, inplace=True)' or df[col] = df[col].method(value) instead, to perform the operation inplace on the original object.\n",
      "\n",
      "\n",
      "  train_data['Product Reviews Count'].fillna(0, inplace=True)\n",
      "C:\\Users\\Kabi\\AppData\\Local\\Temp\\ipykernel_8476\\4023703667.py:3: SettingWithCopyWarning: \n",
      "A value is trying to be set on a copy of a slice from a DataFrame\n",
      "\n",
      "See the caveats in the documentation: https://pandas.pydata.org/pandas-docs/stable/user_guide/indexing.html#returning-a-view-versus-a-copy\n",
      "  train_data['Product Reviews Count'].fillna(0, inplace=True)\n",
      "C:\\Users\\Kabi\\AppData\\Local\\Temp\\ipykernel_8476\\4023703667.py:4: FutureWarning: A value is trying to be set on a copy of a DataFrame or Series through chained assignment using an inplace method.\n",
      "The behavior will change in pandas 3.0. This inplace method will never work because the intermediate object on which we are setting values always behaves as a copy.\n",
      "\n",
      "For example, when doing 'df[col].method(value, inplace=True)', try using 'df.method({col: value}, inplace=True)' or df[col] = df[col].method(value) instead, to perform the operation inplace on the original object.\n",
      "\n",
      "\n",
      "  train_data['Product Category'].fillna('No Category', inplace=True)\n",
      "C:\\Users\\Kabi\\AppData\\Local\\Temp\\ipykernel_8476\\4023703667.py:4: SettingWithCopyWarning: \n",
      "A value is trying to be set on a copy of a slice from a DataFrame\n",
      "\n",
      "See the caveats in the documentation: https://pandas.pydata.org/pandas-docs/stable/user_guide/indexing.html#returning-a-view-versus-a-copy\n",
      "  train_data['Product Category'].fillna('No Category', inplace=True)\n",
      "C:\\Users\\Kabi\\AppData\\Local\\Temp\\ipykernel_8476\\4023703667.py:5: FutureWarning: A value is trying to be set on a copy of a DataFrame or Series through chained assignment using an inplace method.\n",
      "The behavior will change in pandas 3.0. This inplace method will never work because the intermediate object on which we are setting values always behaves as a copy.\n",
      "\n",
      "For example, when doing 'df[col].method(value, inplace=True)', try using 'df.method({col: value}, inplace=True)' or df[col] = df[col].method(value) instead, to perform the operation inplace on the original object.\n",
      "\n",
      "\n",
      "  train_data['Product Brand'].fillna('No Brand', inplace=True)\n",
      "C:\\Users\\Kabi\\AppData\\Local\\Temp\\ipykernel_8476\\4023703667.py:5: SettingWithCopyWarning: \n",
      "A value is trying to be set on a copy of a slice from a DataFrame\n",
      "\n",
      "See the caveats in the documentation: https://pandas.pydata.org/pandas-docs/stable/user_guide/indexing.html#returning-a-view-versus-a-copy\n",
      "  train_data['Product Brand'].fillna('No Brand', inplace=True)\n",
      "C:\\Users\\Kabi\\AppData\\Local\\Temp\\ipykernel_8476\\4023703667.py:6: FutureWarning: A value is trying to be set on a copy of a DataFrame or Series through chained assignment using an inplace method.\n",
      "The behavior will change in pandas 3.0. This inplace method will never work because the intermediate object on which we are setting values always behaves as a copy.\n",
      "\n",
      "For example, when doing 'df[col].method(value, inplace=True)', try using 'df.method({col: value}, inplace=True)' or df[col] = df[col].method(value) instead, to perform the operation inplace on the original object.\n",
      "\n",
      "\n",
      "  train_data['Product Description'].fillna('No Description', inplace=True)\n",
      "C:\\Users\\Kabi\\AppData\\Local\\Temp\\ipykernel_8476\\4023703667.py:6: SettingWithCopyWarning: \n",
      "A value is trying to be set on a copy of a slice from a DataFrame\n",
      "\n",
      "See the caveats in the documentation: https://pandas.pydata.org/pandas-docs/stable/user_guide/indexing.html#returning-a-view-versus-a-copy\n",
      "  train_data['Product Description'].fillna('No Description', inplace=True)\n"
     ]
    }
   ],
   "source": [
    "#filling missing values\n",
    "train_data['Product Rating'].fillna(0, inplace=True)\n",
    "train_data['Product Reviews Count'].fillna(0, inplace=True)\n",
    "train_data['Product Category'].fillna('No Category', inplace=True)\n",
    "train_data['Product Brand'].fillna('No Brand', inplace=True)\n",
    "train_data['Product Description'].fillna('No Description', inplace=True)"
   ]
  },
  {
   "cell_type": "code",
   "execution_count": 14,
   "id": "df124d6b-0fc8-4b63-a952-af09f93e631c",
   "metadata": {},
   "outputs": [
    {
     "data": {
      "text/plain": [
       "Uniq Id                  0\n",
       "Product Id               0\n",
       "Product Rating           0\n",
       "Product Reviews Count    0\n",
       "Product Category         0\n",
       "Product Brand            0\n",
       "Product Name             0\n",
       "Product Image Url        0\n",
       "Product Description      0\n",
       "Product Tags             0\n",
       "dtype: int64"
      ]
     },
     "execution_count": 14,
     "metadata": {},
     "output_type": "execute_result"
    }
   ],
   "source": [
    "train_data.isna().sum()"
   ]
  },
  {
   "cell_type": "code",
   "execution_count": 15,
   "id": "a982e7fd-44a2-4536-91e1-728938b11fb3",
   "metadata": {},
   "outputs": [
    {
     "data": {
      "text/plain": [
       "0"
      ]
     },
     "execution_count": 15,
     "metadata": {},
     "output_type": "execute_result"
    }
   ],
   "source": [
    "train_data.duplicated().sum()"
   ]
  },
  {
   "cell_type": "code",
   "execution_count": 16,
   "id": "ce3e1709-a985-46f2-9ebe-f38afd0d78d1",
   "metadata": {},
   "outputs": [
    {
     "data": {
      "text/plain": [
       "(5000, 10)"
      ]
     },
     "execution_count": 16,
     "metadata": {},
     "output_type": "execute_result"
    }
   ],
   "source": [
    "train_data.shape"
   ]
  },
  {
   "cell_type": "code",
   "execution_count": 17,
   "id": "186a7e54-eb47-4c51-b25f-7b48636c2251",
   "metadata": {},
   "outputs": [
    {
     "name": "stderr",
     "output_type": "stream",
     "text": [
      "C:\\Users\\Kabi\\AppData\\Local\\Temp\\ipykernel_8476\\2411302344.py:17: SettingWithCopyWarning: \n",
      "A value is trying to be set on a copy of a slice from a DataFrame\n",
      "\n",
      "See the caveats in the documentation: https://pandas.pydata.org/pandas-docs/stable/user_guide/indexing.html#returning-a-view-versus-a-copy\n",
      "  train_data.rename(columns=column_name_mapping, inplace=True)\n"
     ]
    }
   ],
   "source": [
    "# make columns shorter\n",
    "# Define the mapping of current column names to shorter names\n",
    "column_name_mapping = {\n",
    "    'Uniq Id': 'ID',\n",
    "    'Product Id': 'ProdID',\n",
    "    'Product Rating': 'Rating',\n",
    "    'Product Reviews Count': 'ReviewCount',\n",
    "    'Product Category': 'Category',\n",
    "    'Product Brand': 'Brand',\n",
    "    'Product Name': 'Name',\n",
    "    'Product Image Url': 'ImageURL',\n",
    "    'Product Description': 'Description',\n",
    "    'Product Tags': 'Tags',\n",
    "    'Product Contents': 'Contents'\n",
    "}\n",
    "# Rename the columns using the mapping\n",
    "train_data.rename(columns=column_name_mapping, inplace=True)"
   ]
  },
  {
   "cell_type": "code",
   "execution_count": 18,
   "id": "28fe8b25-88e0-4a96-83c1-fe40762ecca9",
   "metadata": {},
   "outputs": [
    {
     "data": {
      "text/html": [
       "<div>\n",
       "<style scoped>\n",
       "    .dataframe tbody tr th:only-of-type {\n",
       "        vertical-align: middle;\n",
       "    }\n",
       "\n",
       "    .dataframe tbody tr th {\n",
       "        vertical-align: top;\n",
       "    }\n",
       "\n",
       "    .dataframe thead th {\n",
       "        text-align: right;\n",
       "    }\n",
       "</style>\n",
       "<table border=\"1\" class=\"dataframe\">\n",
       "  <thead>\n",
       "    <tr style=\"text-align: right;\">\n",
       "      <th></th>\n",
       "      <th>ID</th>\n",
       "      <th>ProdID</th>\n",
       "      <th>Rating</th>\n",
       "      <th>ReviewCount</th>\n",
       "      <th>Category</th>\n",
       "      <th>Brand</th>\n",
       "      <th>Name</th>\n",
       "      <th>ImageURL</th>\n",
       "      <th>Description</th>\n",
       "      <th>Tags</th>\n",
       "    </tr>\n",
       "  </thead>\n",
       "  <tbody>\n",
       "    <tr>\n",
       "      <th>0</th>\n",
       "      <td>1705736792d82aa2f2d3caf1c07c53f4</td>\n",
       "      <td>2e17bf4acecdece67fc00f07ad62c910</td>\n",
       "      <td>0.0</td>\n",
       "      <td>0.0</td>\n",
       "      <td>Premium Beauty &gt; Premium Makeup &gt; Premium Nail...</td>\n",
       "      <td>OPI</td>\n",
       "      <td>OPI Infinite Shine, Nail Lacquer Nail Polish, ...</td>\n",
       "      <td>https://i5.walmartimages.com/asr/0e1f4c51-c1a4...</td>\n",
       "      <td>No Description</td>\n",
       "      <td>OPI Infinite Shine, Nail Lacquer Nail Polish, ...</td>\n",
       "    </tr>\n",
       "    <tr>\n",
       "      <th>1</th>\n",
       "      <td>95a9fe6f4810fcfc7ff244fd06784f11</td>\n",
       "      <td>076e5854a62dd283c253d6bae415af1f</td>\n",
       "      <td>0.0</td>\n",
       "      <td>0.0</td>\n",
       "      <td>Beauty &gt; Hair Care &gt; Hair Color &gt; Auburn Hair ...</td>\n",
       "      <td>Nice'n Easy</td>\n",
       "      <td>Nice n Easy Permanent Color, 111 Natural Mediu...</td>\n",
       "      <td>https://i5.walmartimages.com/asr/9c8e42e4-13a5...</td>\n",
       "      <td>Pack of 3 Pack of 3 for the UPC: 381519000201 ...</td>\n",
       "      <td>Nice 'n Easy Permanent Color, 111 Natural Medi...</td>\n",
       "    </tr>\n",
       "  </tbody>\n",
       "</table>\n",
       "</div>"
      ],
      "text/plain": [
       "                                 ID                            ProdID  Rating  \\\n",
       "0  1705736792d82aa2f2d3caf1c07c53f4  2e17bf4acecdece67fc00f07ad62c910     0.0   \n",
       "1  95a9fe6f4810fcfc7ff244fd06784f11  076e5854a62dd283c253d6bae415af1f     0.0   \n",
       "\n",
       "   ReviewCount                                           Category  \\\n",
       "0          0.0  Premium Beauty > Premium Makeup > Premium Nail...   \n",
       "1          0.0  Beauty > Hair Care > Hair Color > Auburn Hair ...   \n",
       "\n",
       "         Brand                                               Name  \\\n",
       "0          OPI  OPI Infinite Shine, Nail Lacquer Nail Polish, ...   \n",
       "1  Nice'n Easy  Nice n Easy Permanent Color, 111 Natural Mediu...   \n",
       "\n",
       "                                            ImageURL  \\\n",
       "0  https://i5.walmartimages.com/asr/0e1f4c51-c1a4...   \n",
       "1  https://i5.walmartimages.com/asr/9c8e42e4-13a5...   \n",
       "\n",
       "                                         Description  \\\n",
       "0                                     No Description   \n",
       "1  Pack of 3 Pack of 3 for the UPC: 381519000201 ...   \n",
       "\n",
       "                                                Tags  \n",
       "0  OPI Infinite Shine, Nail Lacquer Nail Polish, ...  \n",
       "1  Nice 'n Easy Permanent Color, 111 Natural Medi...  "
      ]
     },
     "execution_count": 18,
     "metadata": {},
     "output_type": "execute_result"
    }
   ],
   "source": [
    "train_data.head(2)"
   ]
  },
  {
   "cell_type": "code",
   "execution_count": 19,
   "id": "2dba59aa-1893-4140-b5b3-63204afc2f2f",
   "metadata": {},
   "outputs": [
    {
     "name": "stderr",
     "output_type": "stream",
     "text": [
      "<>:3: SyntaxWarning: invalid escape sequence '\\d'\n",
      "<>:3: SyntaxWarning: invalid escape sequence '\\d'\n",
      "C:\\Users\\Kabi\\AppData\\Local\\Temp\\ipykernel_8476\\2966118085.py:3: SyntaxWarning: invalid escape sequence '\\d'\n",
      "  train_data['ProdID'] = train_data['ProdID'].astype(str).str.extract('(\\d+)').astype('float') # Use int64 to handle large integers\n",
      "C:\\Users\\Kabi\\AppData\\Local\\Temp\\ipykernel_8476\\2966118085.py:3: SettingWithCopyWarning: \n",
      "A value is trying to be set on a copy of a slice from a DataFrame.\n",
      "Try using .loc[row_indexer,col_indexer] = value instead\n",
      "\n",
      "See the caveats in the documentation: https://pandas.pydata.org/pandas-docs/stable/user_guide/indexing.html#returning-a-view-versus-a-copy\n",
      "  train_data['ProdID'] = train_data['ProdID'].astype(str).str.extract('(\\d+)').astype('float') # Use int64 to handle large integers\n"
     ]
    }
   ],
   "source": [
    "#convert id and product id into float\n",
    "# train_data['ID'] = train_data['ID'].astype(str).str.extract('(\\d+)').astype('float') # Use int64 to handle large integers\n",
    "train_data['ProdID'] = train_data['ProdID'].astype(str).str.extract('(\\d+)').astype('float') # Use int64 to handle large integers"
   ]
  },
  {
   "cell_type": "code",
   "execution_count": 20,
   "id": "2ad97010-ddae-4ddc-bd58-732fcdbfe060",
   "metadata": {},
   "outputs": [
    {
     "data": {
      "text/html": [
       "<div>\n",
       "<style scoped>\n",
       "    .dataframe tbody tr th:only-of-type {\n",
       "        vertical-align: middle;\n",
       "    }\n",
       "\n",
       "    .dataframe tbody tr th {\n",
       "        vertical-align: top;\n",
       "    }\n",
       "\n",
       "    .dataframe thead th {\n",
       "        text-align: right;\n",
       "    }\n",
       "</style>\n",
       "<table border=\"1\" class=\"dataframe\">\n",
       "  <thead>\n",
       "    <tr style=\"text-align: right;\">\n",
       "      <th></th>\n",
       "      <th>ID</th>\n",
       "      <th>ProdID</th>\n",
       "      <th>Rating</th>\n",
       "      <th>ReviewCount</th>\n",
       "      <th>Category</th>\n",
       "      <th>Brand</th>\n",
       "      <th>Name</th>\n",
       "      <th>ImageURL</th>\n",
       "      <th>Description</th>\n",
       "      <th>Tags</th>\n",
       "    </tr>\n",
       "  </thead>\n",
       "  <tbody>\n",
       "    <tr>\n",
       "      <th>0</th>\n",
       "      <td>1705736792d82aa2f2d3caf1c07c53f4</td>\n",
       "      <td>2.0</td>\n",
       "      <td>0.0</td>\n",
       "      <td>0.0</td>\n",
       "      <td>Premium Beauty &gt; Premium Makeup &gt; Premium Nail...</td>\n",
       "      <td>OPI</td>\n",
       "      <td>OPI Infinite Shine, Nail Lacquer Nail Polish, ...</td>\n",
       "      <td>https://i5.walmartimages.com/asr/0e1f4c51-c1a4...</td>\n",
       "      <td>No Description</td>\n",
       "      <td>OPI Infinite Shine, Nail Lacquer Nail Polish, ...</td>\n",
       "    </tr>\n",
       "    <tr>\n",
       "      <th>1</th>\n",
       "      <td>95a9fe6f4810fcfc7ff244fd06784f11</td>\n",
       "      <td>76.0</td>\n",
       "      <td>0.0</td>\n",
       "      <td>0.0</td>\n",
       "      <td>Beauty &gt; Hair Care &gt; Hair Color &gt; Auburn Hair ...</td>\n",
       "      <td>Nice'n Easy</td>\n",
       "      <td>Nice n Easy Permanent Color, 111 Natural Mediu...</td>\n",
       "      <td>https://i5.walmartimages.com/asr/9c8e42e4-13a5...</td>\n",
       "      <td>Pack of 3 Pack of 3 for the UPC: 381519000201 ...</td>\n",
       "      <td>Nice 'n Easy Permanent Color, 111 Natural Medi...</td>\n",
       "    </tr>\n",
       "    <tr>\n",
       "      <th>2</th>\n",
       "      <td>8d4d0330178d3ed181b15a4102b287f2</td>\n",
       "      <td>8.0</td>\n",
       "      <td>4.5</td>\n",
       "      <td>29221.0</td>\n",
       "      <td>Beauty &gt; Hair Care &gt; Hair Color &gt; Permanent Ha...</td>\n",
       "      <td>Clairol</td>\n",
       "      <td>Clairol Nice N Easy Permanent Color 7/106A Nat...</td>\n",
       "      <td>https://i5.walmartimages.com/asr/e3a601c2-6a2b...</td>\n",
       "      <td>This Clairol Nice N Easy Permanent Color gives...</td>\n",
       "      <td>Clairol Nice 'N Easy Permanent Color 7/106A Na...</td>\n",
       "    </tr>\n",
       "    <tr>\n",
       "      <th>3</th>\n",
       "      <td>fddc4df45b35efd886794b261f730c51</td>\n",
       "      <td>3.0</td>\n",
       "      <td>0.0</td>\n",
       "      <td>0.0</td>\n",
       "      <td>Beauty &gt; Makeup &gt; Lip</td>\n",
       "      <td>Kokie Cosmetics</td>\n",
       "      <td>Kokie Professional Matte Lipstick, Hot Berry, ...</td>\n",
       "      <td>https://i5.walmartimages.com/asr/25b4b467-bc61...</td>\n",
       "      <td>Calling all matte lip lovers! Indulge in our r...</td>\n",
       "      <td>Kokie Professional Matte Lipstick, Hot Berry, ...</td>\n",
       "    </tr>\n",
       "    <tr>\n",
       "      <th>4</th>\n",
       "      <td>0990cf89a59ca6a0460349a3e4f51d42</td>\n",
       "      <td>3.0</td>\n",
       "      <td>0.0</td>\n",
       "      <td>131.0</td>\n",
       "      <td>Seasonal &gt; Stock Up Essentials &gt; Personal Care...</td>\n",
       "      <td>Gillette</td>\n",
       "      <td>Gillette TRAC II Plus Razor Blade Refills, Fit...</td>\n",
       "      <td>https://i5.walmartimages.com/asr/1a2ebb06-cd01...</td>\n",
       "      <td>In 1971, Gillette introduced the Trac II razor...</td>\n",
       "      <td>Gillette TRAC II Plus Razor Blade Refills, Fit...</td>\n",
       "    </tr>\n",
       "  </tbody>\n",
       "</table>\n",
       "</div>"
      ],
      "text/plain": [
       "                                 ID  ProdID  Rating  ReviewCount  \\\n",
       "0  1705736792d82aa2f2d3caf1c07c53f4     2.0     0.0          0.0   \n",
       "1  95a9fe6f4810fcfc7ff244fd06784f11    76.0     0.0          0.0   \n",
       "2  8d4d0330178d3ed181b15a4102b287f2     8.0     4.5      29221.0   \n",
       "3  fddc4df45b35efd886794b261f730c51     3.0     0.0          0.0   \n",
       "4  0990cf89a59ca6a0460349a3e4f51d42     3.0     0.0        131.0   \n",
       "\n",
       "                                            Category            Brand  \\\n",
       "0  Premium Beauty > Premium Makeup > Premium Nail...              OPI   \n",
       "1  Beauty > Hair Care > Hair Color > Auburn Hair ...      Nice'n Easy   \n",
       "2  Beauty > Hair Care > Hair Color > Permanent Ha...          Clairol   \n",
       "3                              Beauty > Makeup > Lip  Kokie Cosmetics   \n",
       "4  Seasonal > Stock Up Essentials > Personal Care...         Gillette   \n",
       "\n",
       "                                                Name  \\\n",
       "0  OPI Infinite Shine, Nail Lacquer Nail Polish, ...   \n",
       "1  Nice n Easy Permanent Color, 111 Natural Mediu...   \n",
       "2  Clairol Nice N Easy Permanent Color 7/106A Nat...   \n",
       "3  Kokie Professional Matte Lipstick, Hot Berry, ...   \n",
       "4  Gillette TRAC II Plus Razor Blade Refills, Fit...   \n",
       "\n",
       "                                            ImageURL  \\\n",
       "0  https://i5.walmartimages.com/asr/0e1f4c51-c1a4...   \n",
       "1  https://i5.walmartimages.com/asr/9c8e42e4-13a5...   \n",
       "2  https://i5.walmartimages.com/asr/e3a601c2-6a2b...   \n",
       "3  https://i5.walmartimages.com/asr/25b4b467-bc61...   \n",
       "4  https://i5.walmartimages.com/asr/1a2ebb06-cd01...   \n",
       "\n",
       "                                         Description  \\\n",
       "0                                     No Description   \n",
       "1  Pack of 3 Pack of 3 for the UPC: 381519000201 ...   \n",
       "2  This Clairol Nice N Easy Permanent Color gives...   \n",
       "3  Calling all matte lip lovers! Indulge in our r...   \n",
       "4  In 1971, Gillette introduced the Trac II razor...   \n",
       "\n",
       "                                                Tags  \n",
       "0  OPI Infinite Shine, Nail Lacquer Nail Polish, ...  \n",
       "1  Nice 'n Easy Permanent Color, 111 Natural Medi...  \n",
       "2  Clairol Nice 'N Easy Permanent Color 7/106A Na...  \n",
       "3  Kokie Professional Matte Lipstick, Hot Berry, ...  \n",
       "4  Gillette TRAC II Plus Razor Blade Refills, Fit...  "
      ]
     },
     "execution_count": 20,
     "metadata": {},
     "output_type": "execute_result"
    }
   ],
   "source": [
    "train_data.head()"
   ]
  },
  {
   "cell_type": "code",
   "execution_count": 21,
   "id": "def62b51-2106-40c2-9858-5a1bed3499f3",
   "metadata": {},
   "outputs": [
    {
     "name": "stderr",
     "output_type": "stream",
     "text": [
      "C:\\Users\\Kabi\\AppData\\Local\\Temp\\ipykernel_8476\\3503757238.py:2: SettingWithCopyWarning: \n",
      "A value is trying to be set on a copy of a slice from a DataFrame.\n",
      "Try using .loc[row_indexer,col_indexer] = value instead\n",
      "\n",
      "See the caveats in the documentation: https://pandas.pydata.org/pandas-docs/stable/user_guide/indexing.html#returning-a-view-versus-a-copy\n",
      "  train_data['Category'] = train_data['Category'].apply(lambda x: x.replace(\" \", \",\"))\n"
     ]
    }
   ],
   "source": [
    "#Spliting category column\n",
    "train_data['Category'] = train_data['Category'].apply(lambda x: x.replace(\" \", \",\"))"
   ]
  },
  {
   "cell_type": "code",
   "execution_count": 22,
   "id": "4e4326cc-508b-4dd7-a9f3-46a6efc0a6b9",
   "metadata": {},
   "outputs": [
    {
     "name": "stderr",
     "output_type": "stream",
     "text": [
      "C:\\Users\\Kabi\\AppData\\Local\\Temp\\ipykernel_8476\\4033171402.py:1: SettingWithCopyWarning: \n",
      "A value is trying to be set on a copy of a slice from a DataFrame.\n",
      "Try using .loc[row_indexer,col_indexer] = value instead\n",
      "\n",
      "See the caveats in the documentation: https://pandas.pydata.org/pandas-docs/stable/user_guide/indexing.html#returning-a-view-versus-a-copy\n",
      "  train_data['Category'] = train_data['Category'].apply(lambda x: x.replace(\">,\", \"\"))\n"
     ]
    }
   ],
   "source": [
    "train_data['Category'] = train_data['Category'].apply(lambda x: x.replace(\">,\", \"\"))"
   ]
  },
  {
   "cell_type": "code",
   "execution_count": 23,
   "id": "a4d9c39e-c2a2-4643-a8ef-dece5261ad6c",
   "metadata": {},
   "outputs": [
    {
     "data": {
      "text/plain": [
       "'Premium,Beauty,Premium,Makeup,Premium,Nail,Polish,&,Care,Premium,Nail,Polish'"
      ]
     },
     "execution_count": 23,
     "metadata": {},
     "output_type": "execute_result"
    }
   ],
   "source": [
    "train_data.iloc[0]['Category']"
   ]
  },
  {
   "cell_type": "code",
   "execution_count": 24,
   "id": "7a003334-0813-4ed1-b520-cfa45a94e4b3",
   "metadata": {},
   "outputs": [
    {
     "name": "stderr",
     "output_type": "stream",
     "text": [
      "C:\\Users\\Kabi\\AppData\\Local\\Temp\\ipykernel_8476\\3936269111.py:1: SettingWithCopyWarning: \n",
      "A value is trying to be set on a copy of a slice from a DataFrame.\n",
      "Try using .loc[row_indexer,col_indexer] = value instead\n",
      "\n",
      "See the caveats in the documentation: https://pandas.pydata.org/pandas-docs/stable/user_guide/indexing.html#returning-a-view-versus-a-copy\n",
      "  train_data['Category'] = train_data['Category'].apply(lambda x:x.lower())\n"
     ]
    }
   ],
   "source": [
    "train_data['Category'] = train_data['Category'].apply(lambda x:x.lower())"
   ]
  },
  {
   "cell_type": "code",
   "execution_count": 25,
   "id": "3b295bab-5a5d-4c7a-aa2c-f328cd6210f3",
   "metadata": {},
   "outputs": [
    {
     "data": {
      "text/plain": [
       "'premium,beauty,premium,makeup,premium,nail,polish,&,care,premium,nail,polish'"
      ]
     },
     "execution_count": 25,
     "metadata": {},
     "output_type": "execute_result"
    }
   ],
   "source": [
    "train_data.iloc[0]['Category']"
   ]
  },
  {
   "cell_type": "code",
   "execution_count": 26,
   "id": "86e5f73c-98ae-4e5b-8e97-d5df838ce8e7",
   "metadata": {},
   "outputs": [
    {
     "name": "stderr",
     "output_type": "stream",
     "text": [
      "C:\\Users\\Kabi\\AppData\\Local\\Temp\\ipykernel_8476\\927357734.py:2: SettingWithCopyWarning: \n",
      "A value is trying to be set on a copy of a slice from a DataFrame.\n",
      "Try using .loc[row_indexer,col_indexer] = value instead\n",
      "\n",
      "See the caveats in the documentation: https://pandas.pydata.org/pandas-docs/stable/user_guide/indexing.html#returning-a-view-versus-a-copy\n",
      "  train_data['Category'] = train_data['Category'].apply(lambda x:x.split(\",\"))\n"
     ]
    }
   ],
   "source": [
    "from posixpath import split\n",
    "train_data['Category'] = train_data['Category'].apply(lambda x:x.split(\",\"))"
   ]
  },
  {
   "cell_type": "code",
   "execution_count": 27,
   "id": "bb093439-e359-4a6b-bb66-b3c3b77bf53d",
   "metadata": {},
   "outputs": [
    {
     "data": {
      "text/plain": [
       "['premium',\n",
       " 'beauty',\n",
       " 'premium',\n",
       " 'makeup',\n",
       " 'premium',\n",
       " 'nail',\n",
       " 'polish',\n",
       " '&',\n",
       " 'care',\n",
       " 'premium',\n",
       " 'nail',\n",
       " 'polish']"
      ]
     },
     "execution_count": 27,
     "metadata": {},
     "output_type": "execute_result"
    }
   ],
   "source": [
    "train_data.iloc[0]['Category']"
   ]
  },
  {
   "cell_type": "code",
   "execution_count": 28,
   "id": "00f271c1-7dcc-4ac3-b5b5-d9e3838742b0",
   "metadata": {},
   "outputs": [
    {
     "data": {
      "text/plain": [
       "'Old Spice'"
      ]
     },
     "execution_count": 28,
     "metadata": {},
     "output_type": "execute_result"
    }
   ],
   "source": [
    "#splitting brand column\n",
    "train_data.iloc[5]['Brand']"
   ]
  },
  {
   "cell_type": "code",
   "execution_count": 29,
   "id": "c55a932c-3f3f-4554-92f6-249e456358b6",
   "metadata": {},
   "outputs": [
    {
     "data": {
      "text/plain": [
       "\"L'Oreal Paris\""
      ]
     },
     "execution_count": 29,
     "metadata": {},
     "output_type": "execute_result"
    }
   ],
   "source": [
    "train_data.iloc[12]['Brand']"
   ]
  },
  {
   "cell_type": "code",
   "execution_count": 30,
   "id": "f14c57d6-e4d8-4ccb-af88-a84e9ac3f438",
   "metadata": {},
   "outputs": [
    {
     "name": "stderr",
     "output_type": "stream",
     "text": [
      "C:\\Users\\Kabi\\AppData\\Local\\Temp\\ipykernel_8476\\3933393050.py:1: SettingWithCopyWarning: \n",
      "A value is trying to be set on a copy of a slice from a DataFrame.\n",
      "Try using .loc[row_indexer,col_indexer] = value instead\n",
      "\n",
      "See the caveats in the documentation: https://pandas.pydata.org/pandas-docs/stable/user_guide/indexing.html#returning-a-view-versus-a-copy\n",
      "  train_data['Brand'] = train_data['Brand'].apply(lambda x:x.replace(\",\",\" \"))\n"
     ]
    }
   ],
   "source": [
    "train_data['Brand'] = train_data['Brand'].apply(lambda x:x.replace(\",\",\" \"))"
   ]
  },
  {
   "cell_type": "code",
   "execution_count": 31,
   "id": "fbd60c92-6e24-42ac-8e61-77cb19273151",
   "metadata": {},
   "outputs": [
    {
     "name": "stderr",
     "output_type": "stream",
     "text": [
      "C:\\Users\\Kabi\\AppData\\Local\\Temp\\ipykernel_8476\\3436795443.py:1: SettingWithCopyWarning: \n",
      "A value is trying to be set on a copy of a slice from a DataFrame.\n",
      "Try using .loc[row_indexer,col_indexer] = value instead\n",
      "\n",
      "See the caveats in the documentation: https://pandas.pydata.org/pandas-docs/stable/user_guide/indexing.html#returning-a-view-versus-a-copy\n",
      "  train_data['Brand'] = train_data['Brand'].apply(lambda x:x.replace(\"'\",\" \"))\n"
     ]
    }
   ],
   "source": [
    "train_data['Brand'] = train_data['Brand'].apply(lambda x:x.replace(\"'\",\" \"))"
   ]
  },
  {
   "cell_type": "code",
   "execution_count": 32,
   "id": "b3354ff9-95ce-4cb8-b1ea-af14306d26e6",
   "metadata": {},
   "outputs": [
    {
     "name": "stderr",
     "output_type": "stream",
     "text": [
      "C:\\Users\\Kabi\\AppData\\Local\\Temp\\ipykernel_8476\\3343635098.py:1: SettingWithCopyWarning: \n",
      "A value is trying to be set on a copy of a slice from a DataFrame.\n",
      "Try using .loc[row_indexer,col_indexer] = value instead\n",
      "\n",
      "See the caveats in the documentation: https://pandas.pydata.org/pandas-docs/stable/user_guide/indexing.html#returning-a-view-versus-a-copy\n",
      "  train_data['Brand'] = train_data['Brand'].apply(lambda x:x.lower())\n"
     ]
    }
   ],
   "source": [
    "train_data['Brand'] = train_data['Brand'].apply(lambda x:x.lower())"
   ]
  },
  {
   "cell_type": "code",
   "execution_count": 33,
   "id": "11ef6480-00b0-4e70-926a-3c9552247169",
   "metadata": {},
   "outputs": [
    {
     "name": "stderr",
     "output_type": "stream",
     "text": [
      "C:\\Users\\Kabi\\AppData\\Local\\Temp\\ipykernel_8476\\3095049565.py:2: SettingWithCopyWarning: \n",
      "A value is trying to be set on a copy of a slice from a DataFrame.\n",
      "Try using .loc[row_indexer,col_indexer] = value instead\n",
      "\n",
      "See the caveats in the documentation: https://pandas.pydata.org/pandas-docs/stable/user_guide/indexing.html#returning-a-view-versus-a-copy\n",
      "  train_data['Brand'] = train_data['Brand'].apply(lambda x:x.split(\" \"))\n"
     ]
    }
   ],
   "source": [
    "from posixpath import split\n",
    "train_data['Brand'] = train_data['Brand'].apply(lambda x:x.split(\" \"))"
   ]
  },
  {
   "cell_type": "code",
   "execution_count": 34,
   "id": "ebfeb406-a0c6-46a7-a269-47cb0027e28b",
   "metadata": {},
   "outputs": [
    {
     "data": {
      "text/plain": [
       "['old', 'spice']"
      ]
     },
     "execution_count": 34,
     "metadata": {},
     "output_type": "execute_result"
    }
   ],
   "source": [
    "train_data.iloc[5]['Brand']"
   ]
  },
  {
   "cell_type": "code",
   "execution_count": 35,
   "id": "94750ac0-ebf2-48bf-a3b4-9f6ef2ef78bc",
   "metadata": {},
   "outputs": [
    {
     "data": {
      "text/plain": [
       "['l', 'oreal', 'paris']"
      ]
     },
     "execution_count": 35,
     "metadata": {},
     "output_type": "execute_result"
    }
   ],
   "source": [
    "train_data.iloc[12]['Brand']"
   ]
  },
  {
   "cell_type": "code",
   "execution_count": 36,
   "id": "d365b5c8-4e1f-4006-b398-0a056495b5dc",
   "metadata": {},
   "outputs": [
    {
     "data": {
      "text/html": [
       "<div>\n",
       "<style scoped>\n",
       "    .dataframe tbody tr th:only-of-type {\n",
       "        vertical-align: middle;\n",
       "    }\n",
       "\n",
       "    .dataframe tbody tr th {\n",
       "        vertical-align: top;\n",
       "    }\n",
       "\n",
       "    .dataframe thead th {\n",
       "        text-align: right;\n",
       "    }\n",
       "</style>\n",
       "<table border=\"1\" class=\"dataframe\">\n",
       "  <thead>\n",
       "    <tr style=\"text-align: right;\">\n",
       "      <th></th>\n",
       "      <th>ID</th>\n",
       "      <th>ProdID</th>\n",
       "      <th>Rating</th>\n",
       "      <th>ReviewCount</th>\n",
       "      <th>Category</th>\n",
       "      <th>Brand</th>\n",
       "      <th>Name</th>\n",
       "      <th>ImageURL</th>\n",
       "      <th>Description</th>\n",
       "      <th>Tags</th>\n",
       "    </tr>\n",
       "  </thead>\n",
       "  <tbody>\n",
       "    <tr>\n",
       "      <th>0</th>\n",
       "      <td>1705736792d82aa2f2d3caf1c07c53f4</td>\n",
       "      <td>2.0</td>\n",
       "      <td>0.0</td>\n",
       "      <td>0.0</td>\n",
       "      <td>[premium, beauty, premium, makeup, premium, na...</td>\n",
       "      <td>[opi]</td>\n",
       "      <td>OPI Infinite Shine, Nail Lacquer Nail Polish, ...</td>\n",
       "      <td>https://i5.walmartimages.com/asr/0e1f4c51-c1a4...</td>\n",
       "      <td>No Description</td>\n",
       "      <td>OPI Infinite Shine, Nail Lacquer Nail Polish, ...</td>\n",
       "    </tr>\n",
       "    <tr>\n",
       "      <th>1</th>\n",
       "      <td>95a9fe6f4810fcfc7ff244fd06784f11</td>\n",
       "      <td>76.0</td>\n",
       "      <td>0.0</td>\n",
       "      <td>0.0</td>\n",
       "      <td>[beauty, hair, care, hair, color, auburn, hair...</td>\n",
       "      <td>[nice, n, easy]</td>\n",
       "      <td>Nice n Easy Permanent Color, 111 Natural Mediu...</td>\n",
       "      <td>https://i5.walmartimages.com/asr/9c8e42e4-13a5...</td>\n",
       "      <td>Pack of 3 Pack of 3 for the UPC: 381519000201 ...</td>\n",
       "      <td>Nice 'n Easy Permanent Color, 111 Natural Medi...</td>\n",
       "    </tr>\n",
       "    <tr>\n",
       "      <th>2</th>\n",
       "      <td>8d4d0330178d3ed181b15a4102b287f2</td>\n",
       "      <td>8.0</td>\n",
       "      <td>4.5</td>\n",
       "      <td>29221.0</td>\n",
       "      <td>[beauty, hair, care, hair, color, permanent, h...</td>\n",
       "      <td>[clairol]</td>\n",
       "      <td>Clairol Nice N Easy Permanent Color 7/106A Nat...</td>\n",
       "      <td>https://i5.walmartimages.com/asr/e3a601c2-6a2b...</td>\n",
       "      <td>This Clairol Nice N Easy Permanent Color gives...</td>\n",
       "      <td>Clairol Nice 'N Easy Permanent Color 7/106A Na...</td>\n",
       "    </tr>\n",
       "    <tr>\n",
       "      <th>3</th>\n",
       "      <td>fddc4df45b35efd886794b261f730c51</td>\n",
       "      <td>3.0</td>\n",
       "      <td>0.0</td>\n",
       "      <td>0.0</td>\n",
       "      <td>[beauty, makeup, lip]</td>\n",
       "      <td>[kokie, cosmetics]</td>\n",
       "      <td>Kokie Professional Matte Lipstick, Hot Berry, ...</td>\n",
       "      <td>https://i5.walmartimages.com/asr/25b4b467-bc61...</td>\n",
       "      <td>Calling all matte lip lovers! Indulge in our r...</td>\n",
       "      <td>Kokie Professional Matte Lipstick, Hot Berry, ...</td>\n",
       "    </tr>\n",
       "    <tr>\n",
       "      <th>4</th>\n",
       "      <td>0990cf89a59ca6a0460349a3e4f51d42</td>\n",
       "      <td>3.0</td>\n",
       "      <td>0.0</td>\n",
       "      <td>131.0</td>\n",
       "      <td>[seasonal, stock, up, essentials, personal, ca...</td>\n",
       "      <td>[gillette]</td>\n",
       "      <td>Gillette TRAC II Plus Razor Blade Refills, Fit...</td>\n",
       "      <td>https://i5.walmartimages.com/asr/1a2ebb06-cd01...</td>\n",
       "      <td>In 1971, Gillette introduced the Trac II razor...</td>\n",
       "      <td>Gillette TRAC II Plus Razor Blade Refills, Fit...</td>\n",
       "    </tr>\n",
       "  </tbody>\n",
       "</table>\n",
       "</div>"
      ],
      "text/plain": [
       "                                 ID  ProdID  Rating  ReviewCount  \\\n",
       "0  1705736792d82aa2f2d3caf1c07c53f4     2.0     0.0          0.0   \n",
       "1  95a9fe6f4810fcfc7ff244fd06784f11    76.0     0.0          0.0   \n",
       "2  8d4d0330178d3ed181b15a4102b287f2     8.0     4.5      29221.0   \n",
       "3  fddc4df45b35efd886794b261f730c51     3.0     0.0          0.0   \n",
       "4  0990cf89a59ca6a0460349a3e4f51d42     3.0     0.0        131.0   \n",
       "\n",
       "                                            Category               Brand  \\\n",
       "0  [premium, beauty, premium, makeup, premium, na...               [opi]   \n",
       "1  [beauty, hair, care, hair, color, auburn, hair...     [nice, n, easy]   \n",
       "2  [beauty, hair, care, hair, color, permanent, h...           [clairol]   \n",
       "3                              [beauty, makeup, lip]  [kokie, cosmetics]   \n",
       "4  [seasonal, stock, up, essentials, personal, ca...          [gillette]   \n",
       "\n",
       "                                                Name  \\\n",
       "0  OPI Infinite Shine, Nail Lacquer Nail Polish, ...   \n",
       "1  Nice n Easy Permanent Color, 111 Natural Mediu...   \n",
       "2  Clairol Nice N Easy Permanent Color 7/106A Nat...   \n",
       "3  Kokie Professional Matte Lipstick, Hot Berry, ...   \n",
       "4  Gillette TRAC II Plus Razor Blade Refills, Fit...   \n",
       "\n",
       "                                            ImageURL  \\\n",
       "0  https://i5.walmartimages.com/asr/0e1f4c51-c1a4...   \n",
       "1  https://i5.walmartimages.com/asr/9c8e42e4-13a5...   \n",
       "2  https://i5.walmartimages.com/asr/e3a601c2-6a2b...   \n",
       "3  https://i5.walmartimages.com/asr/25b4b467-bc61...   \n",
       "4  https://i5.walmartimages.com/asr/1a2ebb06-cd01...   \n",
       "\n",
       "                                         Description  \\\n",
       "0                                     No Description   \n",
       "1  Pack of 3 Pack of 3 for the UPC: 381519000201 ...   \n",
       "2  This Clairol Nice N Easy Permanent Color gives...   \n",
       "3  Calling all matte lip lovers! Indulge in our r...   \n",
       "4  In 1971, Gillette introduced the Trac II razor...   \n",
       "\n",
       "                                                Tags  \n",
       "0  OPI Infinite Shine, Nail Lacquer Nail Polish, ...  \n",
       "1  Nice 'n Easy Permanent Color, 111 Natural Medi...  \n",
       "2  Clairol Nice 'N Easy Permanent Color 7/106A Na...  \n",
       "3  Kokie Professional Matte Lipstick, Hot Berry, ...  \n",
       "4  Gillette TRAC II Plus Razor Blade Refills, Fit...  "
      ]
     },
     "execution_count": 36,
     "metadata": {},
     "output_type": "execute_result"
    }
   ],
   "source": [
    "train_data.head()"
   ]
  },
  {
   "cell_type": "code",
   "execution_count": 37,
   "id": "1218448f-6916-4ee6-9353-ba3288cb5d1e",
   "metadata": {},
   "outputs": [
    {
     "data": {
      "text/plain": [
       "'Old Spice Artisan Molding Clay is a Mens Styling product that allows men sculpt their hair into a moldable look with high hold and a matte finish. Old Spice Artisan Styling High Hold Matte Finish Molding Clay, 2.64 oz: Old Spice Artisan Molding Clay provides high hold and a matte finish Old Spice Artisan Molding Clay helps tame and shape your hair For a moldable look Available in one size: 75 g / 2.64 oz. puck'"
      ]
     },
     "execution_count": 37,
     "metadata": {},
     "output_type": "execute_result"
    }
   ],
   "source": [
    "#splitting Description\n",
    "train_data.iloc[5]['Description']"
   ]
  },
  {
   "cell_type": "code",
   "execution_count": 38,
   "id": "b0ef8fd3-63fd-472f-a14a-0d9482320715",
   "metadata": {},
   "outputs": [
    {
     "name": "stderr",
     "output_type": "stream",
     "text": [
      "C:\\Users\\Kabi\\AppData\\Local\\Temp\\ipykernel_8476\\3517882156.py:1: SettingWithCopyWarning: \n",
      "A value is trying to be set on a copy of a slice from a DataFrame.\n",
      "Try using .loc[row_indexer,col_indexer] = value instead\n",
      "\n",
      "See the caveats in the documentation: https://pandas.pydata.org/pandas-docs/stable/user_guide/indexing.html#returning-a-view-versus-a-copy\n",
      "  train_data['Description'] = train_data['Description'].apply(lambda x:x.replace(\",\",\"\"))\n"
     ]
    }
   ],
   "source": [
    "train_data['Description'] = train_data['Description'].apply(lambda x:x.replace(\",\",\"\"))"
   ]
  },
  {
   "cell_type": "code",
   "execution_count": 39,
   "id": "a70a37e9-2e78-4533-8f34-06549cc680e8",
   "metadata": {},
   "outputs": [
    {
     "name": "stderr",
     "output_type": "stream",
     "text": [
      "C:\\Users\\Kabi\\AppData\\Local\\Temp\\ipykernel_8476\\3965188533.py:1: SettingWithCopyWarning: \n",
      "A value is trying to be set on a copy of a slice from a DataFrame.\n",
      "Try using .loc[row_indexer,col_indexer] = value instead\n",
      "\n",
      "See the caveats in the documentation: https://pandas.pydata.org/pandas-docs/stable/user_guide/indexing.html#returning-a-view-versus-a-copy\n",
      "  train_data['Description'] = train_data['Description'].apply(lambda x:x.lower())\n"
     ]
    }
   ],
   "source": [
    "train_data['Description'] = train_data['Description'].apply(lambda x:x.lower())"
   ]
  },
  {
   "cell_type": "code",
   "execution_count": 40,
   "id": "876be9ae-ed08-4edb-be01-82cab422df10",
   "metadata": {},
   "outputs": [
    {
     "data": {
      "text/plain": [
       "'old spice artisan molding clay is a mens styling product that allows men sculpt their hair into a moldable look with high hold and a matte finish. old spice artisan styling high hold matte finish molding clay 2.64 oz: old spice artisan molding clay provides high hold and a matte finish old spice artisan molding clay helps tame and shape your hair for a moldable look available in one size: 75 g / 2.64 oz. puck'"
      ]
     },
     "execution_count": 40,
     "metadata": {},
     "output_type": "execute_result"
    }
   ],
   "source": [
    "train_data.iloc[5]['Description']"
   ]
  },
  {
   "cell_type": "code",
   "execution_count": 41,
   "id": "74a04d2e-6aeb-4457-b46a-5685d0e15941",
   "metadata": {},
   "outputs": [
    {
     "name": "stderr",
     "output_type": "stream",
     "text": [
      "C:\\Users\\Kabi\\AppData\\Local\\Temp\\ipykernel_8476\\1433719083.py:2: SettingWithCopyWarning: \n",
      "A value is trying to be set on a copy of a slice from a DataFrame.\n",
      "Try using .loc[row_indexer,col_indexer] = value instead\n",
      "\n",
      "See the caveats in the documentation: https://pandas.pydata.org/pandas-docs/stable/user_guide/indexing.html#returning-a-view-versus-a-copy\n",
      "  train_data['Description']=train_data['Description'].apply(lambda x:x.split(\" \"))\n"
     ]
    }
   ],
   "source": [
    "from posixpath import split\n",
    "train_data['Description']=train_data['Description'].apply(lambda x:x.split(\" \"))"
   ]
  },
  {
   "cell_type": "code",
   "execution_count": 42,
   "id": "75355a01-1dd5-490a-be9c-e9809c274f00",
   "metadata": {},
   "outputs": [
    {
     "data": {
      "text/plain": [
       "['old',\n",
       " 'spice',\n",
       " 'artisan',\n",
       " 'molding',\n",
       " 'clay',\n",
       " 'is',\n",
       " 'a',\n",
       " 'mens',\n",
       " 'styling',\n",
       " 'product',\n",
       " 'that',\n",
       " 'allows',\n",
       " 'men',\n",
       " 'sculpt',\n",
       " 'their',\n",
       " 'hair',\n",
       " 'into',\n",
       " 'a',\n",
       " 'moldable',\n",
       " 'look',\n",
       " 'with',\n",
       " 'high',\n",
       " 'hold',\n",
       " 'and',\n",
       " 'a',\n",
       " 'matte',\n",
       " 'finish.',\n",
       " 'old',\n",
       " 'spice',\n",
       " 'artisan',\n",
       " 'styling',\n",
       " 'high',\n",
       " 'hold',\n",
       " 'matte',\n",
       " 'finish',\n",
       " 'molding',\n",
       " 'clay',\n",
       " '2.64',\n",
       " 'oz:',\n",
       " 'old',\n",
       " 'spice',\n",
       " 'artisan',\n",
       " 'molding',\n",
       " 'clay',\n",
       " 'provides',\n",
       " 'high',\n",
       " 'hold',\n",
       " 'and',\n",
       " 'a',\n",
       " 'matte',\n",
       " 'finish',\n",
       " 'old',\n",
       " 'spice',\n",
       " 'artisan',\n",
       " 'molding',\n",
       " 'clay',\n",
       " 'helps',\n",
       " 'tame',\n",
       " 'and',\n",
       " 'shape',\n",
       " 'your',\n",
       " 'hair',\n",
       " 'for',\n",
       " 'a',\n",
       " 'moldable',\n",
       " 'look',\n",
       " 'available',\n",
       " 'in',\n",
       " 'one',\n",
       " 'size:',\n",
       " '75',\n",
       " 'g',\n",
       " '/',\n",
       " '2.64',\n",
       " 'oz.',\n",
       " 'puck']"
      ]
     },
     "execution_count": 42,
     "metadata": {},
     "output_type": "execute_result"
    }
   ],
   "source": [
    "train_data.iloc[5]['Description']"
   ]
  },
  {
   "cell_type": "code",
   "execution_count": 43,
   "id": "5a973268-12b3-46f9-8480-94690235b6b5",
   "metadata": {},
   "outputs": [
    {
     "data": {
      "text/plain": [
       "['pack',\n",
       " 'of',\n",
       " '3',\n",
       " 'pack',\n",
       " 'of',\n",
       " '3',\n",
       " 'for',\n",
       " 'the',\n",
       " 'upc:',\n",
       " '381519000201',\n",
       " 'beautiful',\n",
       " 'natural',\n",
       " 'color.',\n",
       " 'active',\n",
       " 'ingredients:',\n",
       " 'color-blend',\n",
       " 'formula:',\n",
       " 'water;',\n",
       " 'ethoxydiglycol;',\n",
       " 'propylene',\n",
       " 'glycol;',\n",
       " 'isopropyl',\n",
       " 'alcohol;',\n",
       " 'soytrimonium',\n",
       " 'chloride;',\n",
       " 'oleth-5;',\n",
       " 'oleic',\n",
       " 'acid;',\n",
       " 'ammonium',\n",
       " 'hydroxide;',\n",
       " 'trisodium',\n",
       " 'ethylenediamine',\n",
       " 'disuccinate;',\n",
       " 'fragrance;',\n",
       " 'oleth-2;',\n",
       " 'c11-15',\n",
       " 'pareth-9;',\n",
       " 'cocamidopropyl',\n",
       " 'betaine;',\n",
       " 'c12-15',\n",
       " 'pareth-3;',\n",
       " 'erythorbic',\n",
       " 'acid;',\n",
       " 'citric',\n",
       " 'acid;',\n",
       " 'sodium',\n",
       " 'sulfite;',\n",
       " 'edta;',\n",
       " 'p-aminophenol;',\n",
       " '4-amino-2-hydroxytoluene;',\n",
       " 'p-phenylenediamine;',\n",
       " 'resorcinol;',\n",
       " '2-methylresorcinol;',\n",
       " 'nn-bis(2-hydroxyethyl)-p-phenylenediamine',\n",
       " 'sulfate;',\n",
       " '1-hydroxyethyl',\n",
       " '45-diamino',\n",
       " 'pyrazole',\n",
       " 'sulfate;',\n",
       " 'phenyl',\n",
       " 'methyl',\n",
       " 'pyrazolone;',\n",
       " '1-naphthol.',\n",
       " 'color-blend',\n",
       " 'activator:',\n",
       " 'water;',\n",
       " 'hydrogen',\n",
       " 'peroxide;',\n",
       " 'acrylates',\n",
       " 'copolymer;',\n",
       " 'steareth-21;',\n",
       " 'oleth-2;',\n",
       " 'oleth-5;',\n",
       " 'peg-50',\n",
       " 'hydrogenated',\n",
       " 'palmamide;',\n",
       " 'acrylates/steareth-20',\n",
       " 'methacrylate',\n",
       " 'copolymer;',\n",
       " 'oleyl',\n",
       " 'alcohol;',\n",
       " 'etidronic',\n",
       " 'acid;',\n",
       " 'disodium',\n",
       " 'edta;',\n",
       " 'simethicone.',\n",
       " 'colorseal',\n",
       " 'conditioning',\n",
       " 'gloss:',\n",
       " 'water;',\n",
       " 'amodimethicone;',\n",
       " 'stearyl',\n",
       " 'alcohol;',\n",
       " 'cetyl',\n",
       " 'alcohol;',\n",
       " 'stearamidopropyl',\n",
       " 'dimethylamine;',\n",
       " 'glutamic',\n",
       " 'acid;',\n",
       " 'fragrance;',\n",
       " 'benzyl',\n",
       " 'alcohol;',\n",
       " 'panthenyl',\n",
       " 'ethyl',\n",
       " 'ether;',\n",
       " 'edta;',\n",
       " 'panthenol;',\n",
       " 'trimethylsiloxysilicate',\n",
       " 'carthamus',\n",
       " 'tinctorius',\n",
       " '(safflower)',\n",
       " 'seed',\n",
       " 'oil;',\n",
       " 'cocos',\n",
       " 'nucifera',\n",
       " '(coconut)',\n",
       " 'oil;',\n",
       " 'hydrolyzed',\n",
       " 'sweet',\n",
       " 'almond',\n",
       " 'protein;',\n",
       " 'methylchloroisothiazolinone;',\n",
       " 'methylisothiazolinone;',\n",
       " 'aloe',\n",
       " 'barbadensis',\n",
       " 'leaf',\n",
       " 'uses:',\n",
       " 'salon',\n",
       " 'experts',\n",
       " 'know',\n",
       " 'it',\n",
       " 'takes',\n",
       " 'a',\n",
       " 'perfect',\n",
       " 'blend',\n",
       " 'of',\n",
       " 'tones',\n",
       " 'to',\n",
       " 'create',\n",
       " 'amazingly',\n",
       " 'natural',\n",
       " 'color',\n",
       " 'results.',\n",
       " 'nice',\n",
       " 'n',\n",
       " 'easy',\n",
       " 'creates',\n",
       " 'beautifully',\n",
       " 'blended',\n",
       " 'natural-looking',\n",
       " 'shades',\n",
       " 'for',\n",
       " 'you',\n",
       " 'just',\n",
       " 'like',\n",
       " 'the',\n",
       " 'experts',\n",
       " 'in',\n",
       " 'one',\n",
       " 'easy',\n",
       " 'step!',\n",
       " 'q.',\n",
       " 'how',\n",
       " 'do',\n",
       " 'i',\n",
       " 'know',\n",
       " 'if',\n",
       " 'nice',\n",
       " 'n',\n",
       " 'easy',\n",
       " 'is',\n",
       " 'right',\n",
       " 'for',\n",
       " 'me?',\n",
       " 'a.',\n",
       " 'nice',\n",
       " 'n',\n",
       " 'easy',\n",
       " 'gives',\n",
       " 'you',\n",
       " 'ultimate',\n",
       " 'natural-looking',\n",
       " 'color',\n",
       " 'with',\n",
       " 'highlights',\n",
       " 'and',\n",
       " 'shine',\n",
       " 'in',\n",
       " 'just',\n",
       " 'one',\n",
       " 'easy',\n",
       " 'step.',\n",
       " 'browns',\n",
       " 'are',\n",
       " 'brilliant',\n",
       " 'blondes',\n",
       " 'are',\n",
       " 'illuminating',\n",
       " 'and',\n",
       " 'reds',\n",
       " 'are',\n",
       " 'radiant.',\n",
       " 'q.',\n",
       " 'how',\n",
       " 'does',\n",
       " 'it',\n",
       " 'work?',\n",
       " 'a.',\n",
       " 'only',\n",
       " 'nice',\n",
       " 'n',\n",
       " 'easy',\n",
       " 'has',\n",
       " 'our',\n",
       " 'exclusive',\n",
       " 'color-blend',\n",
       " 'formula.',\n",
       " 'in',\n",
       " 'one',\n",
       " 'step',\n",
       " 'each',\n",
       " 'shade',\n",
       " 'gives',\n",
       " 'you',\n",
       " 'an',\n",
       " 'expert',\n",
       " 'blend',\n",
       " 'of',\n",
       " '3',\n",
       " 'tones',\n",
       " 'that',\n",
       " 'work',\n",
       " 'together',\n",
       " 'to',\n",
       " 'create',\n",
       " 'natural-looking',\n",
       " 'color',\n",
       " 'with',\n",
       " 'shining',\n",
       " 'dimension.',\n",
       " 'q.',\n",
       " 'will',\n",
       " 'it',\n",
       " 'cover',\n",
       " 'my',\n",
       " 'grays?',\n",
       " 'a.',\n",
       " 'yes!',\n",
       " 'nice',\n",
       " 'n',\n",
       " 'easy',\n",
       " 'promises',\n",
       " '100%',\n",
       " 'gray',\n",
       " 'coverage',\n",
       " 'even',\n",
       " 'on',\n",
       " 'resistant',\n",
       " 'grays.',\n",
       " 'q.',\n",
       " 'how',\n",
       " 'long',\n",
       " 'will',\n",
       " 'it',\n",
       " 'last?',\n",
       " 'a.',\n",
       " 'nice',\n",
       " 'n',\n",
       " 'easy',\n",
       " 'lasts',\n",
       " 'for',\n",
       " 'up',\n",
       " 'to',\n",
       " '6',\n",
       " 'weeks.',\n",
       " 'and',\n",
       " 'for',\n",
       " 'your',\n",
       " 'radiant',\n",
       " 'red',\n",
       " 'shade',\n",
       " 'youll',\n",
       " 'find',\n",
       " '6',\n",
       " 'weekly',\n",
       " 'treatments',\n",
       " 'of',\n",
       " 'our',\n",
       " 'exclusive',\n",
       " 'colorseal',\n",
       " 'conditioning',\n",
       " 'gloss',\n",
       " 'to',\n",
       " 'seal',\n",
       " 'in',\n",
       " 'healthy-looking',\n",
       " 'color',\n",
       " 'and',\n",
       " 'add',\n",
       " 'intense',\n",
       " 'shine.']"
      ]
     },
     "execution_count": 43,
     "metadata": {},
     "output_type": "execute_result"
    }
   ],
   "source": [
    "train_data.iloc[1]['Description']"
   ]
  },
  {
   "cell_type": "code",
   "execution_count": 44,
   "id": "7e506558-a2bb-4ec6-a635-24086624cd00",
   "metadata": {},
   "outputs": [
    {
     "data": {
      "text/html": [
       "<div>\n",
       "<style scoped>\n",
       "    .dataframe tbody tr th:only-of-type {\n",
       "        vertical-align: middle;\n",
       "    }\n",
       "\n",
       "    .dataframe tbody tr th {\n",
       "        vertical-align: top;\n",
       "    }\n",
       "\n",
       "    .dataframe thead th {\n",
       "        text-align: right;\n",
       "    }\n",
       "</style>\n",
       "<table border=\"1\" class=\"dataframe\">\n",
       "  <thead>\n",
       "    <tr style=\"text-align: right;\">\n",
       "      <th></th>\n",
       "      <th>ID</th>\n",
       "      <th>ProdID</th>\n",
       "      <th>Rating</th>\n",
       "      <th>ReviewCount</th>\n",
       "      <th>Category</th>\n",
       "      <th>Brand</th>\n",
       "      <th>Name</th>\n",
       "      <th>ImageURL</th>\n",
       "      <th>Description</th>\n",
       "      <th>Tags</th>\n",
       "    </tr>\n",
       "  </thead>\n",
       "  <tbody>\n",
       "    <tr>\n",
       "      <th>0</th>\n",
       "      <td>1705736792d82aa2f2d3caf1c07c53f4</td>\n",
       "      <td>2.0</td>\n",
       "      <td>0.0</td>\n",
       "      <td>0.0</td>\n",
       "      <td>[premium, beauty, premium, makeup, premium, na...</td>\n",
       "      <td>[opi]</td>\n",
       "      <td>OPI Infinite Shine, Nail Lacquer Nail Polish, ...</td>\n",
       "      <td>https://i5.walmartimages.com/asr/0e1f4c51-c1a4...</td>\n",
       "      <td>[no, description]</td>\n",
       "      <td>OPI Infinite Shine, Nail Lacquer Nail Polish, ...</td>\n",
       "    </tr>\n",
       "    <tr>\n",
       "      <th>1</th>\n",
       "      <td>95a9fe6f4810fcfc7ff244fd06784f11</td>\n",
       "      <td>76.0</td>\n",
       "      <td>0.0</td>\n",
       "      <td>0.0</td>\n",
       "      <td>[beauty, hair, care, hair, color, auburn, hair...</td>\n",
       "      <td>[nice, n, easy]</td>\n",
       "      <td>Nice n Easy Permanent Color, 111 Natural Mediu...</td>\n",
       "      <td>https://i5.walmartimages.com/asr/9c8e42e4-13a5...</td>\n",
       "      <td>[pack, of, 3, pack, of, 3, for, the, upc:, 381...</td>\n",
       "      <td>Nice 'n Easy Permanent Color, 111 Natural Medi...</td>\n",
       "    </tr>\n",
       "  </tbody>\n",
       "</table>\n",
       "</div>"
      ],
      "text/plain": [
       "                                 ID  ProdID  Rating  ReviewCount  \\\n",
       "0  1705736792d82aa2f2d3caf1c07c53f4     2.0     0.0          0.0   \n",
       "1  95a9fe6f4810fcfc7ff244fd06784f11    76.0     0.0          0.0   \n",
       "\n",
       "                                            Category            Brand  \\\n",
       "0  [premium, beauty, premium, makeup, premium, na...            [opi]   \n",
       "1  [beauty, hair, care, hair, color, auburn, hair...  [nice, n, easy]   \n",
       "\n",
       "                                                Name  \\\n",
       "0  OPI Infinite Shine, Nail Lacquer Nail Polish, ...   \n",
       "1  Nice n Easy Permanent Color, 111 Natural Mediu...   \n",
       "\n",
       "                                            ImageURL  \\\n",
       "0  https://i5.walmartimages.com/asr/0e1f4c51-c1a4...   \n",
       "1  https://i5.walmartimages.com/asr/9c8e42e4-13a5...   \n",
       "\n",
       "                                         Description  \\\n",
       "0                                  [no, description]   \n",
       "1  [pack, of, 3, pack, of, 3, for, the, upc:, 381...   \n",
       "\n",
       "                                                Tags  \n",
       "0  OPI Infinite Shine, Nail Lacquer Nail Polish, ...  \n",
       "1  Nice 'n Easy Permanent Color, 111 Natural Medi...  "
      ]
     },
     "execution_count": 44,
     "metadata": {},
     "output_type": "execute_result"
    }
   ],
   "source": [
    "train_data.head(2)"
   ]
  },
  {
   "cell_type": "code",
   "execution_count": 45,
   "id": "00dc955b-be45-41a5-bd80-b69b1ea07d1e",
   "metadata": {},
   "outputs": [
    {
     "data": {
      "text/plain": [
       "'OPI Infinite Shine, Nail Lacquer Nail Polish, Bubble Bath, Wal-mart, Walmart.com'"
      ]
     },
     "execution_count": 45,
     "metadata": {},
     "output_type": "execute_result"
    }
   ],
   "source": [
    "#spliting tag\n",
    "train_data.iloc[0]['Tags']"
   ]
  },
  {
   "cell_type": "code",
   "execution_count": 46,
   "id": "fabc986d-41bc-47f1-be89-8032f4c1ae2e",
   "metadata": {},
   "outputs": [
    {
     "name": "stderr",
     "output_type": "stream",
     "text": [
      "C:\\Users\\Kabi\\AppData\\Local\\Temp\\ipykernel_8476\\2704313025.py:1: SettingWithCopyWarning: \n",
      "A value is trying to be set on a copy of a slice from a DataFrame.\n",
      "Try using .loc[row_indexer,col_indexer] = value instead\n",
      "\n",
      "See the caveats in the documentation: https://pandas.pydata.org/pandas-docs/stable/user_guide/indexing.html#returning-a-view-versus-a-copy\n",
      "  train_data['Tags'] = train_data['Tags'].apply(lambda x:x.replace(\",\",\"\"))\n"
     ]
    }
   ],
   "source": [
    "train_data['Tags'] = train_data['Tags'].apply(lambda x:x.replace(\",\",\"\"))"
   ]
  },
  {
   "cell_type": "code",
   "execution_count": 47,
   "id": "07ecf678-416d-4f6f-b264-b8dc32858a72",
   "metadata": {},
   "outputs": [
    {
     "name": "stderr",
     "output_type": "stream",
     "text": [
      "C:\\Users\\Kabi\\AppData\\Local\\Temp\\ipykernel_8476\\1739430253.py:1: SettingWithCopyWarning: \n",
      "A value is trying to be set on a copy of a slice from a DataFrame.\n",
      "Try using .loc[row_indexer,col_indexer] = value instead\n",
      "\n",
      "See the caveats in the documentation: https://pandas.pydata.org/pandas-docs/stable/user_guide/indexing.html#returning-a-view-versus-a-copy\n",
      "  train_data['Tags'] = train_data['Tags'].apply(lambda x:x.lower())\n"
     ]
    }
   ],
   "source": [
    "train_data['Tags'] = train_data['Tags'].apply(lambda x:x.lower())"
   ]
  },
  {
   "cell_type": "code",
   "execution_count": 48,
   "id": "6c405559-0c00-4f32-8405-660e96e8e0a2",
   "metadata": {},
   "outputs": [
    {
     "name": "stderr",
     "output_type": "stream",
     "text": [
      "C:\\Users\\Kabi\\AppData\\Local\\Temp\\ipykernel_8476\\3867102203.py:2: SettingWithCopyWarning: \n",
      "A value is trying to be set on a copy of a slice from a DataFrame.\n",
      "Try using .loc[row_indexer,col_indexer] = value instead\n",
      "\n",
      "See the caveats in the documentation: https://pandas.pydata.org/pandas-docs/stable/user_guide/indexing.html#returning-a-view-versus-a-copy\n",
      "  train_data['Tags'] = train_data['Tags'].apply(lambda x:x.split(\" \"))\n"
     ]
    }
   ],
   "source": [
    "from posixpath import split\n",
    "train_data['Tags'] = train_data['Tags'].apply(lambda x:x.split(\" \"))"
   ]
  },
  {
   "cell_type": "code",
   "execution_count": 49,
   "id": "ca686c75-894e-410c-8a37-f13a98d5b885",
   "metadata": {},
   "outputs": [
    {
     "data": {
      "text/plain": [
       "['opi',\n",
       " 'infinite',\n",
       " 'shine',\n",
       " 'nail',\n",
       " 'lacquer',\n",
       " 'nail',\n",
       " 'polish',\n",
       " 'bubble',\n",
       " 'bath',\n",
       " 'wal-mart',\n",
       " 'walmart.com']"
      ]
     },
     "execution_count": 49,
     "metadata": {},
     "output_type": "execute_result"
    }
   ],
   "source": [
    "train_data.iloc[0]['Tags']"
   ]
  },
  {
   "cell_type": "code",
   "execution_count": 50,
   "id": "21f047a6-6b68-447e-993f-82c724f0d592",
   "metadata": {},
   "outputs": [
    {
     "data": {
      "text/html": [
       "<div>\n",
       "<style scoped>\n",
       "    .dataframe tbody tr th:only-of-type {\n",
       "        vertical-align: middle;\n",
       "    }\n",
       "\n",
       "    .dataframe tbody tr th {\n",
       "        vertical-align: top;\n",
       "    }\n",
       "\n",
       "    .dataframe thead th {\n",
       "        text-align: right;\n",
       "    }\n",
       "</style>\n",
       "<table border=\"1\" class=\"dataframe\">\n",
       "  <thead>\n",
       "    <tr style=\"text-align: right;\">\n",
       "      <th></th>\n",
       "      <th>ID</th>\n",
       "      <th>ProdID</th>\n",
       "      <th>Rating</th>\n",
       "      <th>ReviewCount</th>\n",
       "      <th>Category</th>\n",
       "      <th>Brand</th>\n",
       "      <th>Name</th>\n",
       "      <th>ImageURL</th>\n",
       "      <th>Description</th>\n",
       "      <th>Tags</th>\n",
       "    </tr>\n",
       "  </thead>\n",
       "  <tbody>\n",
       "    <tr>\n",
       "      <th>0</th>\n",
       "      <td>1705736792d82aa2f2d3caf1c07c53f4</td>\n",
       "      <td>2.0</td>\n",
       "      <td>0.0</td>\n",
       "      <td>0.0</td>\n",
       "      <td>[premium, beauty, premium, makeup, premium, na...</td>\n",
       "      <td>[opi]</td>\n",
       "      <td>OPI Infinite Shine, Nail Lacquer Nail Polish, ...</td>\n",
       "      <td>https://i5.walmartimages.com/asr/0e1f4c51-c1a4...</td>\n",
       "      <td>[no, description]</td>\n",
       "      <td>[opi, infinite, shine, nail, lacquer, nail, po...</td>\n",
       "    </tr>\n",
       "    <tr>\n",
       "      <th>1</th>\n",
       "      <td>95a9fe6f4810fcfc7ff244fd06784f11</td>\n",
       "      <td>76.0</td>\n",
       "      <td>0.0</td>\n",
       "      <td>0.0</td>\n",
       "      <td>[beauty, hair, care, hair, color, auburn, hair...</td>\n",
       "      <td>[nice, n, easy]</td>\n",
       "      <td>Nice n Easy Permanent Color, 111 Natural Mediu...</td>\n",
       "      <td>https://i5.walmartimages.com/asr/9c8e42e4-13a5...</td>\n",
       "      <td>[pack, of, 3, pack, of, 3, for, the, upc:, 381...</td>\n",
       "      <td>[nice, 'n, easy, permanent, color, 111, natura...</td>\n",
       "    </tr>\n",
       "  </tbody>\n",
       "</table>\n",
       "</div>"
      ],
      "text/plain": [
       "                                 ID  ProdID  Rating  ReviewCount  \\\n",
       "0  1705736792d82aa2f2d3caf1c07c53f4     2.0     0.0          0.0   \n",
       "1  95a9fe6f4810fcfc7ff244fd06784f11    76.0     0.0          0.0   \n",
       "\n",
       "                                            Category            Brand  \\\n",
       "0  [premium, beauty, premium, makeup, premium, na...            [opi]   \n",
       "1  [beauty, hair, care, hair, color, auburn, hair...  [nice, n, easy]   \n",
       "\n",
       "                                                Name  \\\n",
       "0  OPI Infinite Shine, Nail Lacquer Nail Polish, ...   \n",
       "1  Nice n Easy Permanent Color, 111 Natural Mediu...   \n",
       "\n",
       "                                            ImageURL  \\\n",
       "0  https://i5.walmartimages.com/asr/0e1f4c51-c1a4...   \n",
       "1  https://i5.walmartimages.com/asr/9c8e42e4-13a5...   \n",
       "\n",
       "                                         Description  \\\n",
       "0                                  [no, description]   \n",
       "1  [pack, of, 3, pack, of, 3, for, the, upc:, 381...   \n",
       "\n",
       "                                                Tags  \n",
       "0  [opi, infinite, shine, nail, lacquer, nail, po...  \n",
       "1  [nice, 'n, easy, permanent, color, 111, natura...  "
      ]
     },
     "execution_count": 50,
     "metadata": {},
     "output_type": "execute_result"
    }
   ],
   "source": [
    "train_data.head(2)"
   ]
  },
  {
   "cell_type": "code",
   "execution_count": 51,
   "id": "c73067bc-8733-49b2-9863-cf26dac3e4fa",
   "metadata": {},
   "outputs": [],
   "source": [
    "def remove_space(text):\n",
    "    i = []\n",
    "    for j in text:\n",
    "        i.append(j.replace(\" \",\"\"))\n",
    "    return i"
   ]
  },
  {
   "cell_type": "code",
   "execution_count": 52,
   "id": "315bb922-cf58-44b0-92a6-76ad34ee4fa9",
   "metadata": {},
   "outputs": [
    {
     "name": "stderr",
     "output_type": "stream",
     "text": [
      "C:\\Users\\Kabi\\AppData\\Local\\Temp\\ipykernel_8476\\2916315606.py:1: SettingWithCopyWarning: \n",
      "A value is trying to be set on a copy of a slice from a DataFrame.\n",
      "Try using .loc[row_indexer,col_indexer] = value instead\n",
      "\n",
      "See the caveats in the documentation: https://pandas.pydata.org/pandas-docs/stable/user_guide/indexing.html#returning-a-view-versus-a-copy\n",
      "  train_data['Brand'] = train_data['Brand'].apply(remove_space)\n"
     ]
    }
   ],
   "source": [
    "train_data['Brand'] = train_data['Brand'].apply(remove_space)"
   ]
  },
  {
   "cell_type": "code",
   "execution_count": 53,
   "id": "b55fbc7d-528d-4f1b-8fde-3d4dcb8638d0",
   "metadata": {},
   "outputs": [
    {
     "data": {
      "text/html": [
       "<div>\n",
       "<style scoped>\n",
       "    .dataframe tbody tr th:only-of-type {\n",
       "        vertical-align: middle;\n",
       "    }\n",
       "\n",
       "    .dataframe tbody tr th {\n",
       "        vertical-align: top;\n",
       "    }\n",
       "\n",
       "    .dataframe thead th {\n",
       "        text-align: right;\n",
       "    }\n",
       "</style>\n",
       "<table border=\"1\" class=\"dataframe\">\n",
       "  <thead>\n",
       "    <tr style=\"text-align: right;\">\n",
       "      <th></th>\n",
       "      <th>ID</th>\n",
       "      <th>ProdID</th>\n",
       "      <th>Rating</th>\n",
       "      <th>ReviewCount</th>\n",
       "      <th>Category</th>\n",
       "      <th>Brand</th>\n",
       "      <th>Name</th>\n",
       "      <th>ImageURL</th>\n",
       "      <th>Description</th>\n",
       "      <th>Tags</th>\n",
       "    </tr>\n",
       "  </thead>\n",
       "  <tbody>\n",
       "    <tr>\n",
       "      <th>0</th>\n",
       "      <td>1705736792d82aa2f2d3caf1c07c53f4</td>\n",
       "      <td>2.0</td>\n",
       "      <td>0.0</td>\n",
       "      <td>0.0</td>\n",
       "      <td>[premium, beauty, premium, makeup, premium, na...</td>\n",
       "      <td>[opi]</td>\n",
       "      <td>OPI Infinite Shine, Nail Lacquer Nail Polish, ...</td>\n",
       "      <td>https://i5.walmartimages.com/asr/0e1f4c51-c1a4...</td>\n",
       "      <td>[no, description]</td>\n",
       "      <td>[opi, infinite, shine, nail, lacquer, nail, po...</td>\n",
       "    </tr>\n",
       "    <tr>\n",
       "      <th>1</th>\n",
       "      <td>95a9fe6f4810fcfc7ff244fd06784f11</td>\n",
       "      <td>76.0</td>\n",
       "      <td>0.0</td>\n",
       "      <td>0.0</td>\n",
       "      <td>[beauty, hair, care, hair, color, auburn, hair...</td>\n",
       "      <td>[nice, n, easy]</td>\n",
       "      <td>Nice n Easy Permanent Color, 111 Natural Mediu...</td>\n",
       "      <td>https://i5.walmartimages.com/asr/9c8e42e4-13a5...</td>\n",
       "      <td>[pack, of, 3, pack, of, 3, for, the, upc:, 381...</td>\n",
       "      <td>[nice, 'n, easy, permanent, color, 111, natura...</td>\n",
       "    </tr>\n",
       "    <tr>\n",
       "      <th>2</th>\n",
       "      <td>8d4d0330178d3ed181b15a4102b287f2</td>\n",
       "      <td>8.0</td>\n",
       "      <td>4.5</td>\n",
       "      <td>29221.0</td>\n",
       "      <td>[beauty, hair, care, hair, color, permanent, h...</td>\n",
       "      <td>[clairol]</td>\n",
       "      <td>Clairol Nice N Easy Permanent Color 7/106A Nat...</td>\n",
       "      <td>https://i5.walmartimages.com/asr/e3a601c2-6a2b...</td>\n",
       "      <td>[this, clairol, nice, n, easy, permanent, colo...</td>\n",
       "      <td>[clairol, nice, 'n, easy, permanent, color, 7/...</td>\n",
       "    </tr>\n",
       "    <tr>\n",
       "      <th>3</th>\n",
       "      <td>fddc4df45b35efd886794b261f730c51</td>\n",
       "      <td>3.0</td>\n",
       "      <td>0.0</td>\n",
       "      <td>0.0</td>\n",
       "      <td>[beauty, makeup, lip]</td>\n",
       "      <td>[kokie, cosmetics]</td>\n",
       "      <td>Kokie Professional Matte Lipstick, Hot Berry, ...</td>\n",
       "      <td>https://i5.walmartimages.com/asr/25b4b467-bc61...</td>\n",
       "      <td>[calling, all, matte, lip, lovers!, indulge, i...</td>\n",
       "      <td>[kokie, professional, matte, lipstick, hot, be...</td>\n",
       "    </tr>\n",
       "    <tr>\n",
       "      <th>4</th>\n",
       "      <td>0990cf89a59ca6a0460349a3e4f51d42</td>\n",
       "      <td>3.0</td>\n",
       "      <td>0.0</td>\n",
       "      <td>131.0</td>\n",
       "      <td>[seasonal, stock, up, essentials, personal, ca...</td>\n",
       "      <td>[gillette]</td>\n",
       "      <td>Gillette TRAC II Plus Razor Blade Refills, Fit...</td>\n",
       "      <td>https://i5.walmartimages.com/asr/1a2ebb06-cd01...</td>\n",
       "      <td>[in, 1971, gillette, introduced, the, trac, ii...</td>\n",
       "      <td>[gillette, trac, ii, plus, razor, blade, refil...</td>\n",
       "    </tr>\n",
       "  </tbody>\n",
       "</table>\n",
       "</div>"
      ],
      "text/plain": [
       "                                 ID  ProdID  Rating  ReviewCount  \\\n",
       "0  1705736792d82aa2f2d3caf1c07c53f4     2.0     0.0          0.0   \n",
       "1  95a9fe6f4810fcfc7ff244fd06784f11    76.0     0.0          0.0   \n",
       "2  8d4d0330178d3ed181b15a4102b287f2     8.0     4.5      29221.0   \n",
       "3  fddc4df45b35efd886794b261f730c51     3.0     0.0          0.0   \n",
       "4  0990cf89a59ca6a0460349a3e4f51d42     3.0     0.0        131.0   \n",
       "\n",
       "                                            Category               Brand  \\\n",
       "0  [premium, beauty, premium, makeup, premium, na...               [opi]   \n",
       "1  [beauty, hair, care, hair, color, auburn, hair...     [nice, n, easy]   \n",
       "2  [beauty, hair, care, hair, color, permanent, h...           [clairol]   \n",
       "3                              [beauty, makeup, lip]  [kokie, cosmetics]   \n",
       "4  [seasonal, stock, up, essentials, personal, ca...          [gillette]   \n",
       "\n",
       "                                                Name  \\\n",
       "0  OPI Infinite Shine, Nail Lacquer Nail Polish, ...   \n",
       "1  Nice n Easy Permanent Color, 111 Natural Mediu...   \n",
       "2  Clairol Nice N Easy Permanent Color 7/106A Nat...   \n",
       "3  Kokie Professional Matte Lipstick, Hot Berry, ...   \n",
       "4  Gillette TRAC II Plus Razor Blade Refills, Fit...   \n",
       "\n",
       "                                            ImageURL  \\\n",
       "0  https://i5.walmartimages.com/asr/0e1f4c51-c1a4...   \n",
       "1  https://i5.walmartimages.com/asr/9c8e42e4-13a5...   \n",
       "2  https://i5.walmartimages.com/asr/e3a601c2-6a2b...   \n",
       "3  https://i5.walmartimages.com/asr/25b4b467-bc61...   \n",
       "4  https://i5.walmartimages.com/asr/1a2ebb06-cd01...   \n",
       "\n",
       "                                         Description  \\\n",
       "0                                  [no, description]   \n",
       "1  [pack, of, 3, pack, of, 3, for, the, upc:, 381...   \n",
       "2  [this, clairol, nice, n, easy, permanent, colo...   \n",
       "3  [calling, all, matte, lip, lovers!, indulge, i...   \n",
       "4  [in, 1971, gillette, introduced, the, trac, ii...   \n",
       "\n",
       "                                                Tags  \n",
       "0  [opi, infinite, shine, nail, lacquer, nail, po...  \n",
       "1  [nice, 'n, easy, permanent, color, 111, natura...  \n",
       "2  [clairol, nice, 'n, easy, permanent, color, 7/...  \n",
       "3  [kokie, professional, matte, lipstick, hot, be...  \n",
       "4  [gillette, trac, ii, plus, razor, blade, refil...  "
      ]
     },
     "execution_count": 53,
     "metadata": {},
     "output_type": "execute_result"
    }
   ],
   "source": [
    "train_data.head()"
   ]
  },
  {
   "cell_type": "code",
   "execution_count": 54,
   "id": "66b7627d-0b5c-41e9-b2f2-bd9c0e4a71d1",
   "metadata": {},
   "outputs": [
    {
     "name": "stderr",
     "output_type": "stream",
     "text": [
      "C:\\Users\\Kabi\\AppData\\Local\\Temp\\ipykernel_8476\\3467879121.py:2: SettingWithCopyWarning: \n",
      "A value is trying to be set on a copy of a slice from a DataFrame.\n",
      "Try using .loc[row_indexer,col_indexer] = value instead\n",
      "\n",
      "See the caveats in the documentation: https://pandas.pydata.org/pandas-docs/stable/user_guide/indexing.html#returning-a-view-versus-a-copy\n",
      "  train_data['ProdTags'] = train_data['Category']+train_data['Brand']+train_data['Description']+train_data['Tags']\n"
     ]
    }
   ],
   "source": [
    "#create new column and concetanate other columns\n",
    "train_data['ProdTags'] = train_data['Category']+train_data['Brand']+train_data['Description']+train_data['Tags']"
   ]
  },
  {
   "cell_type": "code",
   "execution_count": 55,
   "id": "90add369-d8e8-4648-a42c-dec1e60976f6",
   "metadata": {},
   "outputs": [
    {
     "data": {
      "text/html": [
       "<div>\n",
       "<style scoped>\n",
       "    .dataframe tbody tr th:only-of-type {\n",
       "        vertical-align: middle;\n",
       "    }\n",
       "\n",
       "    .dataframe tbody tr th {\n",
       "        vertical-align: top;\n",
       "    }\n",
       "\n",
       "    .dataframe thead th {\n",
       "        text-align: right;\n",
       "    }\n",
       "</style>\n",
       "<table border=\"1\" class=\"dataframe\">\n",
       "  <thead>\n",
       "    <tr style=\"text-align: right;\">\n",
       "      <th></th>\n",
       "      <th>ID</th>\n",
       "      <th>ProdID</th>\n",
       "      <th>Rating</th>\n",
       "      <th>ReviewCount</th>\n",
       "      <th>Category</th>\n",
       "      <th>Brand</th>\n",
       "      <th>Name</th>\n",
       "      <th>ImageURL</th>\n",
       "      <th>Description</th>\n",
       "      <th>Tags</th>\n",
       "      <th>ProdTags</th>\n",
       "    </tr>\n",
       "  </thead>\n",
       "  <tbody>\n",
       "    <tr>\n",
       "      <th>0</th>\n",
       "      <td>1705736792d82aa2f2d3caf1c07c53f4</td>\n",
       "      <td>2.0</td>\n",
       "      <td>0.0</td>\n",
       "      <td>0.0</td>\n",
       "      <td>[premium, beauty, premium, makeup, premium, na...</td>\n",
       "      <td>[opi]</td>\n",
       "      <td>OPI Infinite Shine, Nail Lacquer Nail Polish, ...</td>\n",
       "      <td>https://i5.walmartimages.com/asr/0e1f4c51-c1a4...</td>\n",
       "      <td>[no, description]</td>\n",
       "      <td>[opi, infinite, shine, nail, lacquer, nail, po...</td>\n",
       "      <td>[premium, beauty, premium, makeup, premium, na...</td>\n",
       "    </tr>\n",
       "    <tr>\n",
       "      <th>1</th>\n",
       "      <td>95a9fe6f4810fcfc7ff244fd06784f11</td>\n",
       "      <td>76.0</td>\n",
       "      <td>0.0</td>\n",
       "      <td>0.0</td>\n",
       "      <td>[beauty, hair, care, hair, color, auburn, hair...</td>\n",
       "      <td>[nice, n, easy]</td>\n",
       "      <td>Nice n Easy Permanent Color, 111 Natural Mediu...</td>\n",
       "      <td>https://i5.walmartimages.com/asr/9c8e42e4-13a5...</td>\n",
       "      <td>[pack, of, 3, pack, of, 3, for, the, upc:, 381...</td>\n",
       "      <td>[nice, 'n, easy, permanent, color, 111, natura...</td>\n",
       "      <td>[beauty, hair, care, hair, color, auburn, hair...</td>\n",
       "    </tr>\n",
       "    <tr>\n",
       "      <th>2</th>\n",
       "      <td>8d4d0330178d3ed181b15a4102b287f2</td>\n",
       "      <td>8.0</td>\n",
       "      <td>4.5</td>\n",
       "      <td>29221.0</td>\n",
       "      <td>[beauty, hair, care, hair, color, permanent, h...</td>\n",
       "      <td>[clairol]</td>\n",
       "      <td>Clairol Nice N Easy Permanent Color 7/106A Nat...</td>\n",
       "      <td>https://i5.walmartimages.com/asr/e3a601c2-6a2b...</td>\n",
       "      <td>[this, clairol, nice, n, easy, permanent, colo...</td>\n",
       "      <td>[clairol, nice, 'n, easy, permanent, color, 7/...</td>\n",
       "      <td>[beauty, hair, care, hair, color, permanent, h...</td>\n",
       "    </tr>\n",
       "    <tr>\n",
       "      <th>3</th>\n",
       "      <td>fddc4df45b35efd886794b261f730c51</td>\n",
       "      <td>3.0</td>\n",
       "      <td>0.0</td>\n",
       "      <td>0.0</td>\n",
       "      <td>[beauty, makeup, lip]</td>\n",
       "      <td>[kokie, cosmetics]</td>\n",
       "      <td>Kokie Professional Matte Lipstick, Hot Berry, ...</td>\n",
       "      <td>https://i5.walmartimages.com/asr/25b4b467-bc61...</td>\n",
       "      <td>[calling, all, matte, lip, lovers!, indulge, i...</td>\n",
       "      <td>[kokie, professional, matte, lipstick, hot, be...</td>\n",
       "      <td>[beauty, makeup, lip, kokie, cosmetics, callin...</td>\n",
       "    </tr>\n",
       "    <tr>\n",
       "      <th>4</th>\n",
       "      <td>0990cf89a59ca6a0460349a3e4f51d42</td>\n",
       "      <td>3.0</td>\n",
       "      <td>0.0</td>\n",
       "      <td>131.0</td>\n",
       "      <td>[seasonal, stock, up, essentials, personal, ca...</td>\n",
       "      <td>[gillette]</td>\n",
       "      <td>Gillette TRAC II Plus Razor Blade Refills, Fit...</td>\n",
       "      <td>https://i5.walmartimages.com/asr/1a2ebb06-cd01...</td>\n",
       "      <td>[in, 1971, gillette, introduced, the, trac, ii...</td>\n",
       "      <td>[gillette, trac, ii, plus, razor, blade, refil...</td>\n",
       "      <td>[seasonal, stock, up, essentials, personal, ca...</td>\n",
       "    </tr>\n",
       "  </tbody>\n",
       "</table>\n",
       "</div>"
      ],
      "text/plain": [
       "                                 ID  ProdID  Rating  ReviewCount  \\\n",
       "0  1705736792d82aa2f2d3caf1c07c53f4     2.0     0.0          0.0   \n",
       "1  95a9fe6f4810fcfc7ff244fd06784f11    76.0     0.0          0.0   \n",
       "2  8d4d0330178d3ed181b15a4102b287f2     8.0     4.5      29221.0   \n",
       "3  fddc4df45b35efd886794b261f730c51     3.0     0.0          0.0   \n",
       "4  0990cf89a59ca6a0460349a3e4f51d42     3.0     0.0        131.0   \n",
       "\n",
       "                                            Category               Brand  \\\n",
       "0  [premium, beauty, premium, makeup, premium, na...               [opi]   \n",
       "1  [beauty, hair, care, hair, color, auburn, hair...     [nice, n, easy]   \n",
       "2  [beauty, hair, care, hair, color, permanent, h...           [clairol]   \n",
       "3                              [beauty, makeup, lip]  [kokie, cosmetics]   \n",
       "4  [seasonal, stock, up, essentials, personal, ca...          [gillette]   \n",
       "\n",
       "                                                Name  \\\n",
       "0  OPI Infinite Shine, Nail Lacquer Nail Polish, ...   \n",
       "1  Nice n Easy Permanent Color, 111 Natural Mediu...   \n",
       "2  Clairol Nice N Easy Permanent Color 7/106A Nat...   \n",
       "3  Kokie Professional Matte Lipstick, Hot Berry, ...   \n",
       "4  Gillette TRAC II Plus Razor Blade Refills, Fit...   \n",
       "\n",
       "                                            ImageURL  \\\n",
       "0  https://i5.walmartimages.com/asr/0e1f4c51-c1a4...   \n",
       "1  https://i5.walmartimages.com/asr/9c8e42e4-13a5...   \n",
       "2  https://i5.walmartimages.com/asr/e3a601c2-6a2b...   \n",
       "3  https://i5.walmartimages.com/asr/25b4b467-bc61...   \n",
       "4  https://i5.walmartimages.com/asr/1a2ebb06-cd01...   \n",
       "\n",
       "                                         Description  \\\n",
       "0                                  [no, description]   \n",
       "1  [pack, of, 3, pack, of, 3, for, the, upc:, 381...   \n",
       "2  [this, clairol, nice, n, easy, permanent, colo...   \n",
       "3  [calling, all, matte, lip, lovers!, indulge, i...   \n",
       "4  [in, 1971, gillette, introduced, the, trac, ii...   \n",
       "\n",
       "                                                Tags  \\\n",
       "0  [opi, infinite, shine, nail, lacquer, nail, po...   \n",
       "1  [nice, 'n, easy, permanent, color, 111, natura...   \n",
       "2  [clairol, nice, 'n, easy, permanent, color, 7/...   \n",
       "3  [kokie, professional, matte, lipstick, hot, be...   \n",
       "4  [gillette, trac, ii, plus, razor, blade, refil...   \n",
       "\n",
       "                                            ProdTags  \n",
       "0  [premium, beauty, premium, makeup, premium, na...  \n",
       "1  [beauty, hair, care, hair, color, auburn, hair...  \n",
       "2  [beauty, hair, care, hair, color, permanent, h...  \n",
       "3  [beauty, makeup, lip, kokie, cosmetics, callin...  \n",
       "4  [seasonal, stock, up, essentials, personal, ca...  "
      ]
     },
     "execution_count": 55,
     "metadata": {},
     "output_type": "execute_result"
    }
   ],
   "source": [
    "train_data.head()"
   ]
  },
  {
   "cell_type": "code",
   "execution_count": 56,
   "id": "c71fd359-12d0-40b7-9a17-15861d1fcb9a",
   "metadata": {},
   "outputs": [
    {
     "data": {
      "text/plain": [
       "['premium',\n",
       " 'beauty',\n",
       " 'premium',\n",
       " 'makeup',\n",
       " 'premium',\n",
       " 'nail',\n",
       " 'polish',\n",
       " '&',\n",
       " 'care',\n",
       " 'premium',\n",
       " 'nail',\n",
       " 'polish',\n",
       " 'opi',\n",
       " 'no',\n",
       " 'description',\n",
       " 'opi',\n",
       " 'infinite',\n",
       " 'shine',\n",
       " 'nail',\n",
       " 'lacquer',\n",
       " 'nail',\n",
       " 'polish',\n",
       " 'bubble',\n",
       " 'bath',\n",
       " 'wal-mart',\n",
       " 'walmart.com']"
      ]
     },
     "execution_count": 56,
     "metadata": {},
     "output_type": "execute_result"
    }
   ],
   "source": [
    "train_data.iloc[0]['ProdTags']"
   ]
  },
  {
   "cell_type": "code",
   "execution_count": 57,
   "id": "30c409a4-148f-4857-9935-2187dfaab8e2",
   "metadata": {},
   "outputs": [],
   "source": [
    "#Conert to string as paragraph again\n",
    "new_df = train_data[['ID','Name','ProdTags']]"
   ]
  },
  {
   "cell_type": "code",
   "execution_count": 58,
   "id": "b00c9e88-c41c-4335-a96e-99da1837183d",
   "metadata": {},
   "outputs": [
    {
     "data": {
      "text/html": [
       "<div>\n",
       "<style scoped>\n",
       "    .dataframe tbody tr th:only-of-type {\n",
       "        vertical-align: middle;\n",
       "    }\n",
       "\n",
       "    .dataframe tbody tr th {\n",
       "        vertical-align: top;\n",
       "    }\n",
       "\n",
       "    .dataframe thead th {\n",
       "        text-align: right;\n",
       "    }\n",
       "</style>\n",
       "<table border=\"1\" class=\"dataframe\">\n",
       "  <thead>\n",
       "    <tr style=\"text-align: right;\">\n",
       "      <th></th>\n",
       "      <th>ID</th>\n",
       "      <th>Name</th>\n",
       "      <th>ProdTags</th>\n",
       "    </tr>\n",
       "  </thead>\n",
       "  <tbody>\n",
       "    <tr>\n",
       "      <th>0</th>\n",
       "      <td>1705736792d82aa2f2d3caf1c07c53f4</td>\n",
       "      <td>OPI Infinite Shine, Nail Lacquer Nail Polish, ...</td>\n",
       "      <td>[premium, beauty, premium, makeup, premium, na...</td>\n",
       "    </tr>\n",
       "    <tr>\n",
       "      <th>1</th>\n",
       "      <td>95a9fe6f4810fcfc7ff244fd06784f11</td>\n",
       "      <td>Nice n Easy Permanent Color, 111 Natural Mediu...</td>\n",
       "      <td>[beauty, hair, care, hair, color, auburn, hair...</td>\n",
       "    </tr>\n",
       "    <tr>\n",
       "      <th>2</th>\n",
       "      <td>8d4d0330178d3ed181b15a4102b287f2</td>\n",
       "      <td>Clairol Nice N Easy Permanent Color 7/106A Nat...</td>\n",
       "      <td>[beauty, hair, care, hair, color, permanent, h...</td>\n",
       "    </tr>\n",
       "    <tr>\n",
       "      <th>3</th>\n",
       "      <td>fddc4df45b35efd886794b261f730c51</td>\n",
       "      <td>Kokie Professional Matte Lipstick, Hot Berry, ...</td>\n",
       "      <td>[beauty, makeup, lip, kokie, cosmetics, callin...</td>\n",
       "    </tr>\n",
       "    <tr>\n",
       "      <th>4</th>\n",
       "      <td>0990cf89a59ca6a0460349a3e4f51d42</td>\n",
       "      <td>Gillette TRAC II Plus Razor Blade Refills, Fit...</td>\n",
       "      <td>[seasonal, stock, up, essentials, personal, ca...</td>\n",
       "    </tr>\n",
       "  </tbody>\n",
       "</table>\n",
       "</div>"
      ],
      "text/plain": [
       "                                 ID  \\\n",
       "0  1705736792d82aa2f2d3caf1c07c53f4   \n",
       "1  95a9fe6f4810fcfc7ff244fd06784f11   \n",
       "2  8d4d0330178d3ed181b15a4102b287f2   \n",
       "3  fddc4df45b35efd886794b261f730c51   \n",
       "4  0990cf89a59ca6a0460349a3e4f51d42   \n",
       "\n",
       "                                                Name  \\\n",
       "0  OPI Infinite Shine, Nail Lacquer Nail Polish, ...   \n",
       "1  Nice n Easy Permanent Color, 111 Natural Mediu...   \n",
       "2  Clairol Nice N Easy Permanent Color 7/106A Nat...   \n",
       "3  Kokie Professional Matte Lipstick, Hot Berry, ...   \n",
       "4  Gillette TRAC II Plus Razor Blade Refills, Fit...   \n",
       "\n",
       "                                            ProdTags  \n",
       "0  [premium, beauty, premium, makeup, premium, na...  \n",
       "1  [beauty, hair, care, hair, color, auburn, hair...  \n",
       "2  [beauty, hair, care, hair, color, permanent, h...  \n",
       "3  [beauty, makeup, lip, kokie, cosmetics, callin...  \n",
       "4  [seasonal, stock, up, essentials, personal, ca...  "
      ]
     },
     "execution_count": 58,
     "metadata": {},
     "output_type": "execute_result"
    }
   ],
   "source": [
    "new_df.head()"
   ]
  },
  {
   "cell_type": "code",
   "execution_count": 59,
   "id": "defd7211-9fed-4be4-b1c0-4e4bcd244215",
   "metadata": {},
   "outputs": [
    {
     "name": "stderr",
     "output_type": "stream",
     "text": [
      "C:\\Users\\Kabi\\AppData\\Local\\Temp\\ipykernel_8476\\653642007.py:1: SettingWithCopyWarning: \n",
      "A value is trying to be set on a copy of a slice from a DataFrame.\n",
      "Try using .loc[row_indexer,col_indexer] = value instead\n",
      "\n",
      "See the caveats in the documentation: https://pandas.pydata.org/pandas-docs/stable/user_guide/indexing.html#returning-a-view-versus-a-copy\n",
      "  new_df['ProdTags'] = new_df['ProdTags'].apply(lambda x:\" \".join(x))\n"
     ]
    }
   ],
   "source": [
    "new_df['ProdTags'] = new_df['ProdTags'].apply(lambda x:\" \".join(x))"
   ]
  },
  {
   "cell_type": "code",
   "execution_count": 60,
   "id": "e046a366-99ed-4e41-ad67-1cbd013ea58b",
   "metadata": {},
   "outputs": [
    {
     "data": {
      "text/html": [
       "<div>\n",
       "<style scoped>\n",
       "    .dataframe tbody tr th:only-of-type {\n",
       "        vertical-align: middle;\n",
       "    }\n",
       "\n",
       "    .dataframe tbody tr th {\n",
       "        vertical-align: top;\n",
       "    }\n",
       "\n",
       "    .dataframe thead th {\n",
       "        text-align: right;\n",
       "    }\n",
       "</style>\n",
       "<table border=\"1\" class=\"dataframe\">\n",
       "  <thead>\n",
       "    <tr style=\"text-align: right;\">\n",
       "      <th></th>\n",
       "      <th>ID</th>\n",
       "      <th>Name</th>\n",
       "      <th>ProdTags</th>\n",
       "    </tr>\n",
       "  </thead>\n",
       "  <tbody>\n",
       "    <tr>\n",
       "      <th>0</th>\n",
       "      <td>1705736792d82aa2f2d3caf1c07c53f4</td>\n",
       "      <td>OPI Infinite Shine, Nail Lacquer Nail Polish, ...</td>\n",
       "      <td>premium beauty premium makeup premium nail pol...</td>\n",
       "    </tr>\n",
       "    <tr>\n",
       "      <th>1</th>\n",
       "      <td>95a9fe6f4810fcfc7ff244fd06784f11</td>\n",
       "      <td>Nice n Easy Permanent Color, 111 Natural Mediu...</td>\n",
       "      <td>beauty hair care hair color auburn hair color ...</td>\n",
       "    </tr>\n",
       "    <tr>\n",
       "      <th>2</th>\n",
       "      <td>8d4d0330178d3ed181b15a4102b287f2</td>\n",
       "      <td>Clairol Nice N Easy Permanent Color 7/106A Nat...</td>\n",
       "      <td>beauty hair care hair color permanent hair col...</td>\n",
       "    </tr>\n",
       "    <tr>\n",
       "      <th>3</th>\n",
       "      <td>fddc4df45b35efd886794b261f730c51</td>\n",
       "      <td>Kokie Professional Matte Lipstick, Hot Berry, ...</td>\n",
       "      <td>beauty makeup lip kokie cosmetics calling all ...</td>\n",
       "    </tr>\n",
       "    <tr>\n",
       "      <th>4</th>\n",
       "      <td>0990cf89a59ca6a0460349a3e4f51d42</td>\n",
       "      <td>Gillette TRAC II Plus Razor Blade Refills, Fit...</td>\n",
       "      <td>seasonal stock up essentials personal care sto...</td>\n",
       "    </tr>\n",
       "  </tbody>\n",
       "</table>\n",
       "</div>"
      ],
      "text/plain": [
       "                                 ID  \\\n",
       "0  1705736792d82aa2f2d3caf1c07c53f4   \n",
       "1  95a9fe6f4810fcfc7ff244fd06784f11   \n",
       "2  8d4d0330178d3ed181b15a4102b287f2   \n",
       "3  fddc4df45b35efd886794b261f730c51   \n",
       "4  0990cf89a59ca6a0460349a3e4f51d42   \n",
       "\n",
       "                                                Name  \\\n",
       "0  OPI Infinite Shine, Nail Lacquer Nail Polish, ...   \n",
       "1  Nice n Easy Permanent Color, 111 Natural Mediu...   \n",
       "2  Clairol Nice N Easy Permanent Color 7/106A Nat...   \n",
       "3  Kokie Professional Matte Lipstick, Hot Berry, ...   \n",
       "4  Gillette TRAC II Plus Razor Blade Refills, Fit...   \n",
       "\n",
       "                                            ProdTags  \n",
       "0  premium beauty premium makeup premium nail pol...  \n",
       "1  beauty hair care hair color auburn hair color ...  \n",
       "2  beauty hair care hair color permanent hair col...  \n",
       "3  beauty makeup lip kokie cosmetics calling all ...  \n",
       "4  seasonal stock up essentials personal care sto...  "
      ]
     },
     "execution_count": 60,
     "metadata": {},
     "output_type": "execute_result"
    }
   ],
   "source": [
    "new_df.head()"
   ]
  },
  {
   "cell_type": "code",
   "execution_count": 61,
   "id": "8accb946-dd11-4ee2-98df-eb1dd55b0823",
   "metadata": {},
   "outputs": [
    {
     "data": {
      "text/plain": [
       "'premium beauty premium makeup premium nail polish & care premium nail polish opi no description opi infinite shine nail lacquer nail polish bubble bath wal-mart walmart.com'"
      ]
     },
     "execution_count": 61,
     "metadata": {},
     "output_type": "execute_result"
    }
   ],
   "source": [
    "new_df.iloc[0]['ProdTags']"
   ]
  },
  {
   "cell_type": "code",
   "execution_count": 62,
   "id": "ae744cbe-8310-4e9b-9ad0-8387736be574",
   "metadata": {},
   "outputs": [
    {
     "data": {
      "text/plain": [
       "(5000, 3)"
      ]
     },
     "execution_count": 62,
     "metadata": {},
     "output_type": "execute_result"
    }
   ],
   "source": [
    "new_df.shape"
   ]
  },
  {
   "cell_type": "code",
   "execution_count": 63,
   "id": "53ca40b8-9d8f-4f43-87ed-657427a3315d",
   "metadata": {},
   "outputs": [],
   "source": [
    "import nltk\n",
    "from nltk.stem import PorterStemmer"
   ]
  },
  {
   "cell_type": "code",
   "execution_count": 64,
   "id": "1d8cf124-ee36-4fd2-a403-a2b40fe002cd",
   "metadata": {},
   "outputs": [],
   "source": [
    "pStem = PorterStemmer()"
   ]
  },
  {
   "cell_type": "code",
   "execution_count": 65,
   "id": "e85cf42b-f0ef-43db-8a5f-3a82eed25575",
   "metadata": {},
   "outputs": [],
   "source": [
    "#Stemmer function\n",
    "def stemmers(text):\n",
    "    i = []\n",
    "    for j in text.split():\n",
    "        i.append(pStem.stem(j))\n",
    "    return \" \".join(i)"
   ]
  },
  {
   "cell_type": "code",
   "execution_count": 66,
   "id": "c8dc47c5-2d24-4fe5-b3f0-8ce9dc505609",
   "metadata": {},
   "outputs": [
    {
     "name": "stderr",
     "output_type": "stream",
     "text": [
      "C:\\Users\\Kabi\\AppData\\Local\\Temp\\ipykernel_8476\\3213948483.py:1: SettingWithCopyWarning: \n",
      "A value is trying to be set on a copy of a slice from a DataFrame.\n",
      "Try using .loc[row_indexer,col_indexer] = value instead\n",
      "\n",
      "See the caveats in the documentation: https://pandas.pydata.org/pandas-docs/stable/user_guide/indexing.html#returning-a-view-versus-a-copy\n",
      "  new_df['ProdTags'] = new_df['ProdTags'].apply(stemmers)\n"
     ]
    }
   ],
   "source": [
    "new_df['ProdTags'] = new_df['ProdTags'].apply(stemmers)"
   ]
  },
  {
   "cell_type": "code",
   "execution_count": 67,
   "id": "7ffd224c-0a3a-405b-af13-fc27b0054e29",
   "metadata": {},
   "outputs": [
    {
     "data": {
      "text/plain": [
       "'premium beauti premium makeup premium nail polish & care premium nail polish opi no descript opi infinit shine nail lacquer nail polish bubbl bath wal-mart walmart.com'"
      ]
     },
     "execution_count": 67,
     "metadata": {},
     "output_type": "execute_result"
    }
   ],
   "source": [
    "new_df.iloc[0]['ProdTags']"
   ]
  },
  {
   "cell_type": "code",
   "execution_count": 68,
   "id": "8731156d-7671-436a-98b4-73d6c7de0e18",
   "metadata": {},
   "outputs": [],
   "source": [
    "#convert to count vectorizer"
   ]
  },
  {
   "cell_type": "code",
   "execution_count": 69,
   "id": "0523c830-5a26-4c9f-abe6-2c701df487cc",
   "metadata": {},
   "outputs": [],
   "source": [
    "from sklearn.feature_extraction.text import CountVectorizer\n",
    "cv = CountVectorizer(max_features=5000, stop_words='english')"
   ]
  },
  {
   "cell_type": "code",
   "execution_count": 70,
   "id": "b9aa7c64-bcfd-42c3-86a4-ec66f72938a9",
   "metadata": {},
   "outputs": [],
   "source": [
    "vector = cv.fit_transform(new_df['ProdTags']).toarray()"
   ]
  },
  {
   "cell_type": "code",
   "execution_count": 71,
   "id": "3c87e0b5-a636-45ab-b5bc-f97500405834",
   "metadata": {},
   "outputs": [
    {
     "data": {
      "text/plain": [
       "array([[0, 0, 0, ..., 0, 0, 0],\n",
       "       [0, 0, 0, ..., 0, 0, 0],\n",
       "       [0, 0, 0, ..., 0, 0, 0],\n",
       "       ...,\n",
       "       [0, 0, 0, ..., 0, 0, 0],\n",
       "       [0, 0, 0, ..., 0, 0, 0],\n",
       "       [0, 0, 0, ..., 0, 0, 0]], dtype=int64)"
      ]
     },
     "execution_count": 71,
     "metadata": {},
     "output_type": "execute_result"
    }
   ],
   "source": [
    "vector"
   ]
  },
  {
   "cell_type": "code",
   "execution_count": 72,
   "id": "24a556a0-4c3d-4386-a9e3-4dded0c43a7c",
   "metadata": {},
   "outputs": [
    {
     "data": {
      "text/plain": [
       "(5000, 5000)"
      ]
     },
     "execution_count": 72,
     "metadata": {},
     "output_type": "execute_result"
    }
   ],
   "source": [
    "vector.shape"
   ]
  },
  {
   "cell_type": "code",
   "execution_count": 73,
   "id": "8a4c1388-41df-46af-a5cc-175629eb8512",
   "metadata": {},
   "outputs": [],
   "source": [
    "#find cosine similarity"
   ]
  },
  {
   "cell_type": "code",
   "execution_count": 74,
   "id": "0686f83c-d06d-4c07-bbfb-c78dfddad9d7",
   "metadata": {},
   "outputs": [],
   "source": [
    "#from sklearn.metrics.pairwise import cosine_similarity"
   ]
  },
  {
   "cell_type": "code",
   "execution_count": 75,
   "id": "e022ff8d-a731-4039-90f9-d1323731dc2c",
   "metadata": {},
   "outputs": [],
   "source": [
    "cos_sim = cosine_similarity(vector)"
   ]
  },
  {
   "cell_type": "code",
   "execution_count": 76,
   "id": "4981a6bc-7cff-433b-847f-4348c970e426",
   "metadata": {},
   "outputs": [
    {
     "data": {
      "text/plain": [
       "array([[1.        , 0.05443677, 0.03077525, ..., 0.4112356 , 0.41014625,\n",
       "        0.13764654],\n",
       "       [0.05443677, 1.        , 0.55398214, ..., 0.05375945, 0.0619602 ,\n",
       "        0.10667355],\n",
       "       [0.03077525, 0.55398214, 1.        , ..., 0.07786856, 0.08807176,\n",
       "        0.1228471 ],\n",
       "       ...,\n",
       "       [0.4112356 , 0.05375945, 0.07786856, ..., 1.        , 0.03058678,\n",
       "        0.09426721],\n",
       "       [0.41014625, 0.0619602 , 0.08807176, ..., 0.03058678, 1.        ,\n",
       "        0.12063588],\n",
       "       [0.13764654, 0.10667355, 0.1228471 , ..., 0.09426721, 0.12063588,\n",
       "        1.        ]])"
      ]
     },
     "execution_count": 76,
     "metadata": {},
     "output_type": "execute_result"
    }
   ],
   "source": [
    "cos_sim"
   ]
  },
  {
   "cell_type": "code",
   "execution_count": 77,
   "id": "48ed52a7-5c64-42a5-bf38-50bab066ec69",
   "metadata": {},
   "outputs": [
    {
     "data": {
      "text/plain": [
       "(5000, 5000)"
      ]
     },
     "execution_count": 77,
     "metadata": {},
     "output_type": "execute_result"
    }
   ],
   "source": [
    "cos_sim.shape"
   ]
  },
  {
   "cell_type": "code",
   "execution_count": 78,
   "id": "6f1b95f6-4ad3-45cd-b147-00363b3a06ea",
   "metadata": {},
   "outputs": [
    {
     "data": {
      "text/plain": [
       "'OPI Infinite Shine, Nail Lacquer Nail Polish, Bubble Bath'"
      ]
     },
     "execution_count": 78,
     "metadata": {},
     "output_type": "execute_result"
    }
   ],
   "source": [
    "new_df.iloc[0]['Name']"
   ]
  },
  {
   "cell_type": "code",
   "execution_count": 79,
   "id": "a27decfa-8255-43c9-8ee7-6358dae920bb",
   "metadata": {},
   "outputs": [],
   "source": [
    "#recommendation"
   ]
  },
  {
   "cell_type": "code",
   "execution_count": 80,
   "id": "a09a9087-6116-4518-9001-01a21596d4ac",
   "metadata": {},
   "outputs": [
    {
     "name": "stdin",
     "output_type": "stream",
     "text": [
      "Enter the word to search:  huggggqwe\n"
     ]
    },
    {
     "name": "stdout",
     "output_type": "stream",
     "text": [
      "The word 'huggggqwe' was not found in any product tags.\n"
     ]
    }
   ],
   "source": [
    "#I need to search by words if i give word it should display all the indexes that have the words i input.\n",
    "# allo me to input the word\n",
    "\n",
    "def search_by_words(word):\n",
    "  \"\"\"\n",
    "  Searches for a word in the 'ProdTags' column and returns the indexes of matching rows.\n",
    "\n",
    "  Args:\n",
    "    word: The word to search for.\n",
    "\n",
    "  Returns:\n",
    "    A list of indexes where the word is found in the 'ProdTags' column.\n",
    "  \"\"\"\n",
    "  indexes = []\n",
    "  for index, row in new_df.iterrows():\n",
    "    if word in row['ProdTags']:\n",
    "      indexes.append(index)\n",
    "  return indexes\n",
    "\n",
    "# Get user input for the word to search\n",
    "search_word = input(\"Enter the word to search: \")\n",
    "\n",
    "# Search for the word and display the matching indexes\n",
    "matching_indexes = search_by_words(search_word)\n",
    "\n",
    "if matching_indexes:\n",
    "  print(f\"The word '{search_word}' was found in the following indexes:\")\n",
    "  print(matching_indexes)\n",
    "else:\n",
    "  print(f\"The word '{search_word}' was not found in any product tags.\")\n"
   ]
  },
  {
   "cell_type": "code",
   "execution_count": 81,
   "id": "66e28c14-82ea-41bb-807f-82ca7bd8f14f",
   "metadata": {},
   "outputs": [
    {
     "data": {
      "text/plain": [
       "51"
      ]
     },
     "execution_count": 81,
     "metadata": {},
     "output_type": "execute_result"
    }
   ],
   "source": [
    "new_df[new_df['Name']=='Dry Conditioner'].index[0]"
   ]
  },
  {
   "cell_type": "code",
   "execution_count": 82,
   "id": "783a53ab-75f3-4587-a516-df11619d9e8c",
   "metadata": {},
   "outputs": [],
   "source": [
    "#Create recommend function according to above seach word code\n",
    "\n",
    "def recommend(product):\n",
    "  index = new_df[new_df['Name'] == product].index[0]\n",
    "  distances = sorted(list(enumerate(cos_sim[index])),reverse=True,key = lambda x: x[1])\n",
    "  for i in distances[1:6]:\n",
    "    print(new_df.iloc[i[0]].Name)\n"
   ]
  },
  {
   "cell_type": "code",
   "execution_count": 83,
   "id": "63017346-4bdc-4c29-b09f-7f4438224559",
   "metadata": {},
   "outputs": [
    {
     "name": "stdout",
     "output_type": "stream",
     "text": [
      "TRESemme Moisture Rich Conditioner with Pump, 39 fl oz\n",
      "Dove Nourishing Secrets Coconut & Hydration Conditioner with Pump, 31 oz\n",
      "($23 Value) Carols Daughter Black Vanilla Conditioner Gift Set, Hydrating Conditioner 12 fl oz, Leave-In Conditioner 8 fl oz\n",
      "Gliss Hair Repair Conditioner, Ultra Moisutre, 13.6 Ounce\n",
      "Sexy Hair Concepts Healthy Sexy Hair Tri-Wheat Leave In Conditioner 8.5fl Oz\n"
     ]
    }
   ],
   "source": [
    "recommend('Dry Conditioner')"
   ]
  },
  {
   "cell_type": "code",
   "execution_count": 84,
   "id": "2ab64305-ced9-42aa-b525-7c31229013b5",
   "metadata": {},
   "outputs": [],
   "source": [
    "import pickle\n",
    "\n",
    "pickle.dump(new_df,open('product_list.pkl','wb'))\n",
    "pickle.dump(cos_sim,open('similarity.pkl','wb'))"
   ]
  },
  {
   "cell_type": "code",
   "execution_count": 85,
   "id": "796c5610-77af-4df8-817b-00fe13d0e329",
   "metadata": {},
   "outputs": [
    {
     "name": "stdout",
     "output_type": "stream",
     "text": [
      "Tide Washing Machine Cleaner 5ct\n",
      "Tide Febreze Sport HE, 59 Loads Liquid Laundry Detergent, 92 fl oz\n",
      "OxiClean Color Boost Color Brightener plus Stain Remover Power Paks, 18 Count\n",
      "OxiClean White Revive Liquid Laundry Whitener + Stain Remover, 66oz\n",
      "Clorox 2 for Colors - Stain Remover and Color Brightener, 88 Ounces\n"
     ]
    }
   ],
   "source": [
    "recommend('OxiClean Odor Blasters')"
   ]
  },
  {
   "cell_type": "code",
   "execution_count": 86,
   "id": "a04d6db2-0253-4a51-ba42-9cb401e49bfc",
   "metadata": {},
   "outputs": [
    {
     "name": "stdout",
     "output_type": "stream",
     "text": [
      "Oral-B Kids Pro-Health Stages Jake & The Neverland Pirates Battery Electric Toothbrush\n",
      "Colgate Kids Toothbrush, Toothpaste, Mouthwash Gift Set - Ryans World\n",
      "Oral-B Kids Manual Toothbrush featuring Disneys Princess Characters, Soft Bristles, for Children and Toddlers 3+, 1 count\n",
      "Pack of 5 Dr. Fresh Kids Extra Soft Toothbrushes (2 packs)\n",
      "Firefly Ready Go My Little Pony Toothbrush\n"
     ]
    }
   ],
   "source": [
    "recommend('SmileFrida the ToothHugger')"
   ]
  },
  {
   "cell_type": "code",
   "execution_count": 87,
   "id": "b7230a31-2a64-4449-852a-e251fd5bc771",
   "metadata": {},
   "outputs": [
    {
     "data": {
      "text/html": [
       "<div>\n",
       "<style scoped>\n",
       "    .dataframe tbody tr th:only-of-type {\n",
       "        vertical-align: middle;\n",
       "    }\n",
       "\n",
       "    .dataframe tbody tr th {\n",
       "        vertical-align: top;\n",
       "    }\n",
       "\n",
       "    .dataframe thead th {\n",
       "        text-align: right;\n",
       "    }\n",
       "</style>\n",
       "<table border=\"1\" class=\"dataframe\">\n",
       "  <thead>\n",
       "    <tr style=\"text-align: right;\">\n",
       "      <th></th>\n",
       "      <th>ID</th>\n",
       "      <th>Name</th>\n",
       "      <th>ProdTags</th>\n",
       "    </tr>\n",
       "  </thead>\n",
       "  <tbody>\n",
       "    <tr>\n",
       "      <th>0</th>\n",
       "      <td>1705736792d82aa2f2d3caf1c07c53f4</td>\n",
       "      <td>OPI Infinite Shine, Nail Lacquer Nail Polish, ...</td>\n",
       "      <td>premium beauti premium makeup premium nail pol...</td>\n",
       "    </tr>\n",
       "    <tr>\n",
       "      <th>1</th>\n",
       "      <td>95a9fe6f4810fcfc7ff244fd06784f11</td>\n",
       "      <td>Nice n Easy Permanent Color, 111 Natural Mediu...</td>\n",
       "      <td>beauti hair care hair color auburn hair color ...</td>\n",
       "    </tr>\n",
       "    <tr>\n",
       "      <th>2</th>\n",
       "      <td>8d4d0330178d3ed181b15a4102b287f2</td>\n",
       "      <td>Clairol Nice N Easy Permanent Color 7/106A Nat...</td>\n",
       "      <td>beauti hair care hair color perman hair color ...</td>\n",
       "    </tr>\n",
       "    <tr>\n",
       "      <th>3</th>\n",
       "      <td>fddc4df45b35efd886794b261f730c51</td>\n",
       "      <td>Kokie Professional Matte Lipstick, Hot Berry, ...</td>\n",
       "      <td>beauti makeup lip koki cosmet call all matt li...</td>\n",
       "    </tr>\n",
       "    <tr>\n",
       "      <th>4</th>\n",
       "      <td>0990cf89a59ca6a0460349a3e4f51d42</td>\n",
       "      <td>Gillette TRAC II Plus Razor Blade Refills, Fit...</td>\n",
       "      <td>season stock up essenti person care stock up s...</td>\n",
       "    </tr>\n",
       "  </tbody>\n",
       "</table>\n",
       "</div>"
      ],
      "text/plain": [
       "                                 ID  \\\n",
       "0  1705736792d82aa2f2d3caf1c07c53f4   \n",
       "1  95a9fe6f4810fcfc7ff244fd06784f11   \n",
       "2  8d4d0330178d3ed181b15a4102b287f2   \n",
       "3  fddc4df45b35efd886794b261f730c51   \n",
       "4  0990cf89a59ca6a0460349a3e4f51d42   \n",
       "\n",
       "                                                Name  \\\n",
       "0  OPI Infinite Shine, Nail Lacquer Nail Polish, ...   \n",
       "1  Nice n Easy Permanent Color, 111 Natural Mediu...   \n",
       "2  Clairol Nice N Easy Permanent Color 7/106A Nat...   \n",
       "3  Kokie Professional Matte Lipstick, Hot Berry, ...   \n",
       "4  Gillette TRAC II Plus Razor Blade Refills, Fit...   \n",
       "\n",
       "                                            ProdTags  \n",
       "0  premium beauti premium makeup premium nail pol...  \n",
       "1  beauti hair care hair color auburn hair color ...  \n",
       "2  beauti hair care hair color perman hair color ...  \n",
       "3  beauti makeup lip koki cosmet call all matt li...  \n",
       "4  season stock up essenti person care stock up s...  "
      ]
     },
     "execution_count": 87,
     "metadata": {},
     "output_type": "execute_result"
    }
   ],
   "source": [
    "new_df.head()"
   ]
  },
  {
   "cell_type": "code",
   "execution_count": 88,
   "id": "b4b2d400-5dfb-48f7-b923-7ef6b5e1c485",
   "metadata": {},
   "outputs": [
    {
     "name": "stderr",
     "output_type": "stream",
     "text": [
      "C:\\Users\\Kabi\\AppData\\Local\\Temp\\ipykernel_8476\\3064075425.py:1: SettingWithCopyWarning: \n",
      "A value is trying to be set on a copy of a slice from a DataFrame.\n",
      "Try using .loc[row_indexer,col_indexer] = value instead\n",
      "\n",
      "See the caveats in the documentation: https://pandas.pydata.org/pandas-docs/stable/user_guide/indexing.html#returning-a-view-versus-a-copy\n",
      "  new_df['imgURL']=train_data['ImageURL']\n"
     ]
    }
   ],
   "source": [
    "new_df['imgURL']=train_data['ImageURL']"
   ]
  },
  {
   "cell_type": "code",
   "execution_count": 89,
   "id": "36aa8964-2546-4d92-a873-5eec172878dd",
   "metadata": {},
   "outputs": [
    {
     "data": {
      "text/html": [
       "<div>\n",
       "<style scoped>\n",
       "    .dataframe tbody tr th:only-of-type {\n",
       "        vertical-align: middle;\n",
       "    }\n",
       "\n",
       "    .dataframe tbody tr th {\n",
       "        vertical-align: top;\n",
       "    }\n",
       "\n",
       "    .dataframe thead th {\n",
       "        text-align: right;\n",
       "    }\n",
       "</style>\n",
       "<table border=\"1\" class=\"dataframe\">\n",
       "  <thead>\n",
       "    <tr style=\"text-align: right;\">\n",
       "      <th></th>\n",
       "      <th>ID</th>\n",
       "      <th>Name</th>\n",
       "      <th>ProdTags</th>\n",
       "      <th>imgURL</th>\n",
       "    </tr>\n",
       "  </thead>\n",
       "  <tbody>\n",
       "    <tr>\n",
       "      <th>0</th>\n",
       "      <td>1705736792d82aa2f2d3caf1c07c53f4</td>\n",
       "      <td>OPI Infinite Shine, Nail Lacquer Nail Polish, ...</td>\n",
       "      <td>premium beauti premium makeup premium nail pol...</td>\n",
       "      <td>https://i5.walmartimages.com/asr/0e1f4c51-c1a4...</td>\n",
       "    </tr>\n",
       "    <tr>\n",
       "      <th>1</th>\n",
       "      <td>95a9fe6f4810fcfc7ff244fd06784f11</td>\n",
       "      <td>Nice n Easy Permanent Color, 111 Natural Mediu...</td>\n",
       "      <td>beauti hair care hair color auburn hair color ...</td>\n",
       "      <td>https://i5.walmartimages.com/asr/9c8e42e4-13a5...</td>\n",
       "    </tr>\n",
       "    <tr>\n",
       "      <th>2</th>\n",
       "      <td>8d4d0330178d3ed181b15a4102b287f2</td>\n",
       "      <td>Clairol Nice N Easy Permanent Color 7/106A Nat...</td>\n",
       "      <td>beauti hair care hair color perman hair color ...</td>\n",
       "      <td>https://i5.walmartimages.com/asr/e3a601c2-6a2b...</td>\n",
       "    </tr>\n",
       "    <tr>\n",
       "      <th>3</th>\n",
       "      <td>fddc4df45b35efd886794b261f730c51</td>\n",
       "      <td>Kokie Professional Matte Lipstick, Hot Berry, ...</td>\n",
       "      <td>beauti makeup lip koki cosmet call all matt li...</td>\n",
       "      <td>https://i5.walmartimages.com/asr/25b4b467-bc61...</td>\n",
       "    </tr>\n",
       "    <tr>\n",
       "      <th>4</th>\n",
       "      <td>0990cf89a59ca6a0460349a3e4f51d42</td>\n",
       "      <td>Gillette TRAC II Plus Razor Blade Refills, Fit...</td>\n",
       "      <td>season stock up essenti person care stock up s...</td>\n",
       "      <td>https://i5.walmartimages.com/asr/1a2ebb06-cd01...</td>\n",
       "    </tr>\n",
       "  </tbody>\n",
       "</table>\n",
       "</div>"
      ],
      "text/plain": [
       "                                 ID  \\\n",
       "0  1705736792d82aa2f2d3caf1c07c53f4   \n",
       "1  95a9fe6f4810fcfc7ff244fd06784f11   \n",
       "2  8d4d0330178d3ed181b15a4102b287f2   \n",
       "3  fddc4df45b35efd886794b261f730c51   \n",
       "4  0990cf89a59ca6a0460349a3e4f51d42   \n",
       "\n",
       "                                                Name  \\\n",
       "0  OPI Infinite Shine, Nail Lacquer Nail Polish, ...   \n",
       "1  Nice n Easy Permanent Color, 111 Natural Mediu...   \n",
       "2  Clairol Nice N Easy Permanent Color 7/106A Nat...   \n",
       "3  Kokie Professional Matte Lipstick, Hot Berry, ...   \n",
       "4  Gillette TRAC II Plus Razor Blade Refills, Fit...   \n",
       "\n",
       "                                            ProdTags  \\\n",
       "0  premium beauti premium makeup premium nail pol...   \n",
       "1  beauti hair care hair color auburn hair color ...   \n",
       "2  beauti hair care hair color perman hair color ...   \n",
       "3  beauti makeup lip koki cosmet call all matt li...   \n",
       "4  season stock up essenti person care stock up s...   \n",
       "\n",
       "                                              imgURL  \n",
       "0  https://i5.walmartimages.com/asr/0e1f4c51-c1a4...  \n",
       "1  https://i5.walmartimages.com/asr/9c8e42e4-13a5...  \n",
       "2  https://i5.walmartimages.com/asr/e3a601c2-6a2b...  \n",
       "3  https://i5.walmartimages.com/asr/25b4b467-bc61...  \n",
       "4  https://i5.walmartimages.com/asr/1a2ebb06-cd01...  "
      ]
     },
     "execution_count": 89,
     "metadata": {},
     "output_type": "execute_result"
    }
   ],
   "source": [
    "new_df.head()"
   ]
  },
  {
   "cell_type": "code",
   "execution_count": 90,
   "id": "c2d723be-0813-406c-b94f-01bb5504a7b1",
   "metadata": {},
   "outputs": [],
   "source": [
    "# Save the DataFrame as a CSV file\n",
    "new_df.to_csv('new_dataset.csv', index=False)"
   ]
  },
  {
   "cell_type": "code",
   "execution_count": 91,
   "id": "5712668a-820d-4519-b6df-fb954e7da9bc",
   "metadata": {},
   "outputs": [
    {
     "ename": "SyntaxError",
     "evalue": "invalid syntax (2130327721.py, line 2)",
     "output_type": "error",
     "traceback": [
      "\u001b[1;36m  Cell \u001b[1;32mIn[91], line 2\u001b[1;36m\u001b[0m\n\u001b[1;33m    require([\"base/js/namespace\"], function(Jupyter) {\u001b[0m\n\u001b[1;37m                                                     ^\u001b[0m\n\u001b[1;31mSyntaxError\u001b[0m\u001b[1;31m:\u001b[0m invalid syntax\n"
     ]
    }
   ],
   "source": [
    "#Disable the 'a' key shortcut for adding a new cell\n",
    "require([\"base/js/namespace\"], function(Jupyter) {\n",
    "    Jupyter.keyboard_manager.command_shortcuts.remove_shortcut('a','d');\n",
    "});"
   ]
  },
  {
   "cell_type": "code",
   "execution_count": null,
   "id": "37deb886-b895-43b1-bd7e-171a1af2fe14",
   "metadata": {},
   "outputs": [],
   "source": []
  }
 ],
 "metadata": {
  "kernelspec": {
   "display_name": "Python 3 (ipykernel)",
   "language": "python",
   "name": "python3"
  },
  "language_info": {
   "codemirror_mode": {
    "name": "ipython",
    "version": 3
   },
   "file_extension": ".py",
   "mimetype": "text/x-python",
   "name": "python",
   "nbconvert_exporter": "python",
   "pygments_lexer": "ipython3",
   "version": "3.12.5"
  }
 },
 "nbformat": 4,
 "nbformat_minor": 5
}
